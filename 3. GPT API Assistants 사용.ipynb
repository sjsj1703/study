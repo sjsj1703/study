{
 "cells": [
  {
   "cell_type": "markdown",
   "id": "6e6362e7-40e0-450f-adc0-7de836d6d75a",
   "metadata": {},
   "source": [
    "## OpenAI에서 지원하는 Assistants API 를 활용하여 PPT 파일을 생성해보자\n",
    "- Assistants: 대화 및 파일 생성, 코드 명령 수행, 데이터 검색 추출 등 특정 task 에 특화되어 학습된 자연어 기반 생성형 인공지능 API\n",
    "- OpenAI의 일반적인 ChatAPI처럼 대화형 서비스도 제공하지만 특정 작업에 특화하여 지원하거나 자동화에 중점을 둠으로써 챗봇, 가상비서, 자동응답시스템 개발 등 필요한 작업에 포커스를 맞춰 사용가능"
   ]
  },
  {
   "cell_type": "markdown",
   "id": "e5024475-32d5-4e6f-97ce-5c82843984aa",
   "metadata": {},
   "source": [
    "## 1. OpenAI API key 설정"
   ]
  },
  {
   "cell_type": "code",
   "execution_count": 17,
   "id": "7df74862-878f-4595-ac14-fbef55f68566",
   "metadata": {},
   "outputs": [],
   "source": [
    "from openai import OpenAI\n",
    "from getpass import getpass\n",
    "import time"
   ]
  },
  {
   "cell_type": "code",
   "execution_count": 4,
   "id": "0199fe71-9c60-4441-9b8b-a7350c480875",
   "metadata": {},
   "outputs": [
    {
     "name": "stdin",
     "output_type": "stream",
     "text": [
      "OpenAI API KEY: ········\n"
     ]
    }
   ],
   "source": [
    "MY_API_KEY=getpass('OpenAI API KEY:')"
   ]
  },
  {
   "cell_type": "code",
   "execution_count": 16,
   "id": "7f79ce0f-2555-4e6b-8d1e-09fd4aeab2d9",
   "metadata": {},
   "outputs": [],
   "source": [
    "client=OpenAI(api_key=MY_API_KEY)"
   ]
  },
  {
   "cell_type": "markdown",
   "id": "8bd8908c-1614-4e04-8016-f28d2af261a2",
   "metadata": {},
   "source": [
    "## 2. 어시스턴트, 스레드, 메세지 객체 설정\n",
    "- 스레드(thread): 프로세스 내에서 실행되는 가장 작은 실행단위로 현재 실습에서는 어시스턴트와 사용자간 채팅 세션(공간)을 하나의 스레드로 지정하여 진행\n",
    "- 메세지(message): 스레드 내의 통신 단위\n",
    "\n",
    "<진행 순서>\n",
    "1) 어시스턴트 세부사항 정의\n",
    "2) 어시스턴트 객체 생성\n",
    "3) 스레드 및 메세지 객체 생성\n",
    "4) 스레드 실행(대화 시작 및 요구사항 요청)"
   ]
  },
  {
   "cell_type": "markdown",
   "id": "d3c9a06e-74a1-4cb1-9917-611d06811bda",
   "metadata": {},
   "source": [
    "### 1) 어시스턴트 세부사항 정의"
   ]
  },
  {
   "cell_type": "code",
   "execution_count": 20,
   "id": "1a7501ea-dc7a-4df2-9896-01fc97e25d0c",
   "metadata": {},
   "outputs": [],
   "source": [
    "#어시스턴트의 역할을 정의(role에서 system과 유사한 기능)\n",
    "assistant_instruction=\"\"\"등산에 관련된 powerpoint 파일을 만들어야해. \n",
    "너는 등산전문가이자 파워포인트 전문가야. 전체적인 PPT의 글꼴은 알아보기 쉬운 분명한 한글 글꼴로 해줘. \n",
    "페이지 별로 제목의 글씨 크기는 40point 내외, 내용은 20point 정도로 설정해줘. \n",
    "슬라이드는 3개 만들어줘\"\"\"\n",
    "\n",
    "#원하는 요청을 작성\n",
    "prompt_user=\"\"\"입문자 및 초보 등산가에게 강의하기 위한 프레젠테이션 자료를 만들어줘. \n",
    "초급, 중급, 고급 수준별 적절한 등산 횟수, 산 높이, 기본적인 스트레칭 동작, 등산화 추천 등에 대한 설명을 포함하는 프레젠테이션을 만들어줘. 페이지 구성이 깔끔하고 내용은 구체적으로 작성해주면 좋겠어.\"\"\""
   ]
  },
  {
   "cell_type": "markdown",
   "id": "b58dbfac-5706-42e1-992b-7e32323ed715",
   "metadata": {},
   "source": [
    "### 2) 어시스턴트 객체 생성"
   ]
  },
  {
   "cell_type": "code",
   "execution_count": 22,
   "id": "d381126c-8461-4aec-b521-22c3e682bcd6",
   "metadata": {},
   "outputs": [],
   "source": [
    "assistant = client.beta.assistants.create(name= 'My Assistant', #이름은 원하는 대로 지정\n",
    "                                         instructions =assistant_instruction,\n",
    "                                         #현재 tools에 적용 가능한 타입은 code_interpreter, fuction, file_search 등이 있음\n",
    "                                         tools=[{'type':'code_interpreter'}],\n",
    "                                         model='gpt-4o'\n",
    "                                        )\n",
    "\n",
    "#code_interpreter: 모델이 코드를 실행하여 계산, 데이터분석, 파일조작 등의 작업을 수행\n",
    "#fuction: 특정 작업을 구현할 수 있는 사용자 정의함수를 호출하여 작업 수행\n",
    "#file_search: 사전 구성된 환경에서 파일을 검색하고 가져와 특정 작업 수행"
   ]
  },
  {
   "cell_type": "code",
   "execution_count": 23,
   "id": "24f07fbc-b817-4634-afd2-ce382f66ee07",
   "metadata": {},
   "outputs": [
    {
     "data": {
      "text/plain": [
       "Assistant(id='asst_zEDpNcxYVMUvEdhhfoUe8fDu', created_at=1738635043, description=None, instructions='등산에 관련된 powerpoint 파일을 만들어야해. \\n너는 등산전문가이자 파워포인트 전문가야. 전체적인 PPT의 글꼴은 알아보기 쉬운 분명한 한글 글꼴로 해줘. \\n페이지 별로 제목의 글씨 크기는 40point 내외, 내용은 20point 정도로 설정해줘. \\n슬라이드는 3개 만들어줘', metadata={}, model='gpt-4o', name='My Assistant', object='assistant', tools=[CodeInterpreterTool(type='code_interpreter')], response_format='auto', temperature=1.0, tool_resources=ToolResources(code_interpreter=ToolResourcesCodeInterpreter(file_ids=[]), file_search=None), top_p=1.0, reasoning_effort=None)"
      ]
     },
     "execution_count": 23,
     "metadata": {},
     "output_type": "execute_result"
    }
   ],
   "source": [
    "assistant\n"
   ]
  },
  {
   "cell_type": "markdown",
   "id": "1ac6650f-b27f-46df-b49e-cf38e41a9437",
   "metadata": {},
   "source": [
    "### 3) 스레드 및 메세지 객체 생성"
   ]
  },
  {
   "cell_type": "code",
   "execution_count": 25,
   "id": "2ede9ed2-3cf4-47d5-9af3-6bfdd086cabb",
   "metadata": {},
   "outputs": [],
   "source": [
    "#스레드 객체 생성\n",
    " #대화를 시작하면 스레드가 생성되며 대화중 교환되는 모든 메세지는 동일한 스레드에서 진행됨\n",
    "thread=client.beta.threads.create()\n",
    "\n",
    "#매세지 객체 생성\n",
    " #메세지는 사용자의 질의, 명령과 같은 텍스트 뿐만 아니라 파일 등 모든 컨텐츠가 포함됨\n",
    " #메세지는 스레드 내의 통신 단위이므로 위에서 생성한 스레드의 id값을 입력\n",
    "message=client.beta.threads.messages.create(thread_id=thread.id,\n",
    "                                            role='user',\n",
    "                                            content=prompt_user\n",
    "                                           )"
   ]
  },
  {
   "cell_type": "code",
   "execution_count": 27,
   "id": "d80ef994-06d6-4bfd-a48d-b987faf1f923",
   "metadata": {},
   "outputs": [
    {
     "data": {
      "text/plain": [
       "Thread(id='thread_pUCuXuVAD811kdWmU3bxewgz', created_at=1738635372, metadata={}, object='thread', tool_resources=ToolResources(code_interpreter=None, file_search=None))"
      ]
     },
     "execution_count": 27,
     "metadata": {},
     "output_type": "execute_result"
    }
   ],
   "source": [
    "thread"
   ]
  },
  {
   "cell_type": "code",
   "execution_count": 28,
   "id": "3da4a819-999d-493a-b06f-a6cb7f22f016",
   "metadata": {},
   "outputs": [
    {
     "data": {
      "text/plain": [
       "Message(id='msg_ATf60joOdArxKMpVcYbOQTxz', assistant_id=None, attachments=[], completed_at=None, content=[TextContentBlock(text=Text(annotations=[], value='입문자 및 초보 등산가에게 강의하기 위한 프레젠테이션 자료를 만들어줘. \\n초급, 중급, 고급 수준별 적절한 등산 횟수, 산 높이, 기본적인 스트레칭 동작, 등산화 추천 등에 대한 설명을 포함하는 프레젠테이션을 만들어줘. 페이지 구성이 깔끔하고 내용은 구체적으로 작성해주면 좋겠어.'), type='text')], created_at=1738635372, incomplete_at=None, incomplete_details=None, metadata={}, object='thread.message', role='user', run_id=None, status=None, thread_id='thread_pUCuXuVAD811kdWmU3bxewgz')"
      ]
     },
     "execution_count": 28,
     "metadata": {},
     "output_type": "execute_result"
    }
   ],
   "source": [
    "message"
   ]
  },
  {
   "cell_type": "markdown",
   "id": "78129205-1d55-4fe1-9b44-bf13009dbbc6",
   "metadata": {},
   "source": [
    "### 4) 스레드 실행(대화 시작 및 요구사항 요청)\n",
    "- 위에 설정된 정보로 역할 설정 및 원하는 작업을 요청하는 단계"
   ]
  },
  {
   "cell_type": "code",
   "execution_count": 38,
   "id": "873ea0af-9e8e-4450-a374-794c59db995e",
   "metadata": {},
   "outputs": [],
   "source": [
    "#스레드 실행(실행하면 LLM으로 사용자의 요청이 넘어감)\n",
    "#스레드는 사용자가 요청을 입력했을때 시작되고 모델의 응답이 끝나면 종료됨\n",
    "\n",
    "run = client.beta.threads.runs.create(thread_id=thread.id,\n",
    "                                      assistant_id=assistant.id\n",
    "                                     )\n",
    "                                      "
   ]
  },
  {
   "cell_type": "markdown",
   "id": "482a8768-bc00-474e-9f4d-d12659c2e337",
   "metadata": {},
   "source": [
    "- 스레드를 실행시킨다고 설정해 둔 모든 요청과 응답이 즉각적으로 이루어지지는 않음\n",
    "- 생성 모델에 사용자의 요청을 인지하고 결과물을 생성하기 위해서는 어느정도의 시간이 필요함(복잡하고 어려운 요청일 수록 더 시간이 오래걸릴 수 있음)"
   ]
  },
  {
   "cell_type": "markdown",
   "id": "56f78b9a-a69c-419f-8aab-12c60db42d60",
   "metadata": {},
   "source": [
    "### ###assistants 응답진행상황 확인 코드###\n",
    "- 작업을 완료하는 데 충분한 시간이 흘렀다면 실행 완료가 뜨고, 실행중이라면 실행되고 있는 과정이 체크되도록 코드 작성"
   ]
  },
  {
   "cell_type": "code",
   "execution_count": 39,
   "id": "87469f1f-f1ac-4ef9-a92f-d5f927b348c2",
   "metadata": {},
   "outputs": [
    {
     "name": "stdout",
     "output_type": "stream",
     "text": [
      "in_progress\n",
      "in_progress\n",
      "작업 완료\n"
     ]
    }
   ],
   "source": [
    "while True:\n",
    "    #retrieve:특정 스레드의 실행상태나 실행후 결과를 검색하는 데 사용하는 함수\n",
    "    run_retrieve=client.beta.threads.runs.retrieve(thread_id=thread.id,\n",
    "                                                  run_id=run.id\n",
    "                                                 )\n",
    "    #실행완료인 경우\n",
    "     #status는 in_progress, completed, failed로 출력될 수 있음\n",
    "    if run_retrieve.status =='completed':\n",
    "        print('작업 완료')\n",
    "        break\n",
    "    #작업이 실행중이거나 실패한 경우\n",
    "    else:\n",
    "        print(run_retrieve.status)\n",
    "        #일정한 시간 텀을 두고 확인(서버에 부하가 가는 것을 방지하기 위함)\n",
    "        time.sleep(1)"
   ]
  },
  {
   "cell_type": "code",
   "execution_count": 41,
   "id": "7e81849d-816e-40ab-9e79-8bc4ff0a86f0",
   "metadata": {},
   "outputs": [
    {
     "data": {
      "text/plain": [
       "SyncCursorPage[Message](data=[Message(id='msg_pBWjZS02nY4PA1Mzk5OEbDtG', assistant_id='asst_zEDpNcxYVMUvEdhhfoUe8fDu', attachments=[Attachment(file_id='file-4nN6Vp6XcYSyc5kqF2Nx9E', tools=[CodeInterpreterTool(type='code_interpreter')])], completed_at=None, content=[TextContentBlock(text=Text(annotations=[FilePathAnnotation(end_index=144, file_path=FilePath(file_id='file-4nN6Vp6XcYSyc5kqF2Nx9E'), start_index=102, text='sandbox:/mnt/data/hiking_presentation.pptx', type='file_path')], value='프레젠테이션을 성공적으로 만들었습니다. 등산 입문자 및 초보 등산가를 위한 강의 자료인 파워포인트 파일을 다운로드 하실 수 있습니다: [hiking_presentation.pptx](sandbox:/mnt/data/hiking_presentation.pptx)'), type='text')], created_at=1738636828, incomplete_at=None, incomplete_details=None, metadata={}, object='thread.message', role='assistant', run_id='run_ehu7pblMAcmEGXxV5h64ygSp', status=None, thread_id='thread_pUCuXuVAD811kdWmU3bxewgz'), Message(id='msg_vuRSUANKXq9TII94bgYqCVu8', assistant_id='asst_zEDpNcxYVMUvEdhhfoUe8fDu', attachments=[], completed_at=None, content=[TextContentBlock(text=Text(annotations=[], value='추가로 원하시는 내용이나 수정해야 할 부분이 있다면 말씀해 주세요!'), type='text')], created_at=1738636755, incomplete_at=None, incomplete_details=None, metadata={}, object='thread.message', role='assistant', run_id='run_YCr2Q1EUZr0DZ15jciMGVEwM', status=None, thread_id='thread_pUCuXuVAD811kdWmU3bxewgz'), Message(id='msg_wDsaD6Gm93sBCOICQEg2J9py', assistant_id='asst_zEDpNcxYVMUvEdhhfoUe8fDu', attachments=[Attachment(file_id='file-HqJorpkp9xsGCi3oVCmq4v', tools=[CodeInterpreterTool(type='code_interpreter')])], completed_at=None, content=[TextContentBlock(text=Text(annotations=[FilePathAnnotation(end_index=144, file_path=FilePath(file_id='file-HqJorpkp9xsGCi3oVCmq4v'), start_index=102, text='sandbox:/mnt/data/hiking_presentation.pptx', type='file_path')], value='프레젠테이션을 성공적으로 만들었습니다. 등산 입문자 및 초보 등산가를 위한 강의 자료인 파워포인트 파일을 다운로드 하실 수 있습니다: [hiking_presentation.pptx](sandbox:/mnt/data/hiking_presentation.pptx)'), type='text')], created_at=1738635678, incomplete_at=None, incomplete_details=None, metadata={}, object='thread.message', role='assistant', run_id='run_DQRiCQZXaj1FUgdlhDxH3wD3', status=None, thread_id='thread_pUCuXuVAD811kdWmU3bxewgz'), Message(id='msg_Yd0NxGz1Nz3VFdvf7RvbQo4D', assistant_id='asst_zEDpNcxYVMUvEdhhfoUe8fDu', attachments=[], completed_at=None, content=[TextContentBlock(text=Text(annotations=[], value='오류가 발생했습니다. 슬라이드 제목 설정 중 문제가 발생했네요. 슬라이드의 제목을 효과적으로 설정하기 위해 코드를 수정해 보겠습니다.'), type='text')], created_at=1738635662, incomplete_at=None, incomplete_details=None, metadata={}, object='thread.message', role='assistant', run_id='run_DQRiCQZXaj1FUgdlhDxH3wD3', status=None, thread_id='thread_pUCuXuVAD811kdWmU3bxewgz'), Message(id='msg_FpSTuLpdsnuH5kksFt5DC1oC', assistant_id='asst_zEDpNcxYVMUvEdhhfoUe8fDu', attachments=[], completed_at=None, content=[TextContentBlock(text=Text(annotations=[], value='좋습니다! 등산 입문자 및 초보 등산가를 위한 프레젠테이션을 만들어 보겠습니다. 다음과 같이 세 개의 슬라이드를 구성하겠습니다.\\n\\n1. **초급 등산가를 위한 정보**\\n   - 적절한 등산 횟수: 강도의 적응을 위한 주 1회\\n   - 적절한 산 높이: 300-500m\\n   - 기본 스트레칭 동작: 목 돌리기, 어깨 돌리기, 허리 굽히기\\n\\n2. **중급 등산가를 위한 정보**\\n   - 적절한 등산 횟수: 체력 강화를 위한 주 2~3회\\n   - 적절한 산 높이: 500-800m\\n   - 중급 스트레칭 동작: 종아리, 허벅지 스트레칭 추가\\n\\n3. **고급 등산가를 위한 정보**\\n   - 적절한 등산 횟수: 능력을 최대화하기 위한 주 3회 이상\\n   - 적절한 산 높이: 800m 이상\\n   - 등산화 추천: 발목 지지를 위해 중간-높은 굽의 등산화\\n   - 추가 스트레칭: 전신 스트레칭 및 코어 운동 포함\\n\\n이제 각 슬라이드의 디자인과 내용을 PowerPoint에서 작성해보겠습니다.'), type='text')], created_at=1738635623, incomplete_at=None, incomplete_details=None, metadata={}, object='thread.message', role='assistant', run_id='run_DQRiCQZXaj1FUgdlhDxH3wD3', status=None, thread_id='thread_pUCuXuVAD811kdWmU3bxewgz'), Message(id='msg_ATf60joOdArxKMpVcYbOQTxz', assistant_id=None, attachments=[], completed_at=None, content=[TextContentBlock(text=Text(annotations=[], value='입문자 및 초보 등산가에게 강의하기 위한 프레젠테이션 자료를 만들어줘. \\n초급, 중급, 고급 수준별 적절한 등산 횟수, 산 높이, 기본적인 스트레칭 동작, 등산화 추천 등에 대한 설명을 포함하는 프레젠테이션을 만들어줘. 페이지 구성이 깔끔하고 내용은 구체적으로 작성해주면 좋겠어.'), type='text')], created_at=1738635372, incomplete_at=None, incomplete_details=None, metadata={}, object='thread.message', role='user', run_id=None, status=None, thread_id='thread_pUCuXuVAD811kdWmU3bxewgz')], object='list', first_id='msg_pBWjZS02nY4PA1Mzk5OEbDtG', last_id='msg_ATf60joOdArxKMpVcYbOQTxz', has_more=False)"
      ]
     },
     "execution_count": 41,
     "metadata": {},
     "output_type": "execute_result"
    }
   ],
   "source": [
    "#messages.list: 특정스레드의 메세지에 대한 정보와 그 목록을 보여주는 함수\n",
    "messages=client.beta.threads.messages.list(thread_id=thread.id)\n",
    "messages\n",
    "\n",
    "#맨 아래에서부터 사용자의 요청메세지와 그에대한 모델의 응답메세지가 순차적으로 출력되고 있음"
   ]
  },
  {
   "cell_type": "code",
   "execution_count": 45,
   "id": "d29f4b83-53f7-482a-a832-733e951f7f3e",
   "metadata": {},
   "outputs": [
    {
     "data": {
      "text/plain": [
       "Text(annotations=[FilePathAnnotation(end_index=144, file_path=FilePath(file_id='file-4nN6Vp6XcYSyc5kqF2Nx9E'), start_index=102, text='sandbox:/mnt/data/hiking_presentation.pptx', type='file_path')], value='프레젠테이션을 성공적으로 만들었습니다. 등산 입문자 및 초보 등산가를 위한 강의 자료인 파워포인트 파일을 다운로드 하실 수 있습니다: [hiking_presentation.pptx](sandbox:/mnt/data/hiking_presentation.pptx)')"
      ]
     },
     "execution_count": 45,
     "metadata": {},
     "output_type": "execute_result"
    }
   ],
   "source": [
    "messages.data[0].content[0].text"
   ]
  },
  {
   "cell_type": "code",
   "execution_count": 46,
   "id": "092d185e-ca5f-4602-8870-1064a272ffd2",
   "metadata": {},
   "outputs": [
    {
     "data": {
      "text/plain": [
       "[FilePathAnnotation(end_index=144, file_path=FilePath(file_id='file-4nN6Vp6XcYSyc5kqF2Nx9E'), start_index=102, text='sandbox:/mnt/data/hiking_presentation.pptx', type='file_path')]"
      ]
     },
     "execution_count": 46,
     "metadata": {},
     "output_type": "execute_result"
    }
   ],
   "source": [
    "#annotations: 메세지의 유형텍스트, 이미지, 비디오, 각종 파일)에 대한 정보가 담겨져 있음\n",
    "messages.data[0].content[0].text.annotations"
   ]
  },
  {
   "cell_type": "markdown",
   "id": "a989decb-e914-402f-8917-4a4445ce8d01",
   "metadata": {},
   "source": [
    "#### annotations가 비어있는 경우의 원인\n",
    "- 생성모델이 결과물을 전부 생성하기 전에 코드를 실행한 경우(충분한 시간이 지나고 실행하면 됨)\n",
    "- 필요한 데이터가 메세지에 포함되지 않았을 경우(파일 미첨부, 애매한 지시 등)\n",
    "- API 호출에 문제가 있거나 잘못된 thread_id를 사용하여 올바른 데이터를 가져오지 못한 경우"
   ]
  },
  {
   "cell_type": "code",
   "execution_count": 52,
   "id": "95f9736d-690f-446d-9886-9b042c29e804",
   "metadata": {},
   "outputs": [],
   "source": [
    "#생성한 파일의 정보 추출\n",
    "\n",
    "#메세지를 통해 받은 파일 정보 중 생성한 파일(PPT)의 file_id 값을 변수에 저장\n",
    "file_id_path=messages.data[0].content[0].text.annotations[0].file_path.file_id\n",
    "\n",
    "#retrieve_content: file_id값을 통해 생성된 파일의 내용물을 검색해 가져오는 함수\n",
    "file_contents=client.files.with_raw_response.retrieve_content(file_id_path)"
   ]
  },
  {
   "cell_type": "markdown",
   "id": "24d5a676-a001-4a69-ba80-00cd9ee980fa",
   "metadata": {},
   "source": [
    "### 결과물을 실제 파일로 내보내기\n"
   ]
  },
  {
   "cell_type": "code",
   "execution_count": 53,
   "id": "b0600cd5-d8ce-41fb-b4cc-c711b36dc2f5",
   "metadata": {},
   "outputs": [],
   "source": [
    "#with open(경로 및 파일명, 읽기 및 쓰기 설정) 파일 불러오기 및 내보내기 기능 코드\n",
    "with open('result/PPT_001.pptx','wb') as f:\n",
    "    #메세지에서 가져온 파일의 내용을 바탕으로 실제 생성할 파일에 컨텐츠 쓰기\n",
    "    f.write(file_contents.content)"
   ]
  },
  {
   "cell_type": "code",
   "execution_count": null,
   "id": "5364aef9-cfff-4deb-a700-92135fce5c84",
   "metadata": {},
   "outputs": [],
   "source": [
    "### 생성파일 정보 및 어시스턴트 삭제(메모리 끊기)"
   ]
  },
  {
   "cell_type": "code",
   "execution_count": 54,
   "id": "74f152b1-4595-49e2-abf9-0c8fa475f931",
   "metadata": {},
   "outputs": [
    {
     "data": {
      "text/plain": [
       "AssistantDeleted(id='asst_zEDpNcxYVMUvEdhhfoUe8fDu', deleted=True, object='assistant.deleted')"
      ]
     },
     "execution_count": 54,
     "metadata": {},
     "output_type": "execute_result"
    }
   ],
   "source": [
    "client.files.delete(file_id_path)\n",
    "client.beta.assistants.delete(assistant.id)"
   ]
  },
  {
   "cell_type": "markdown",
   "id": "c4870198-4cfc-4d8f-9947-1fb29c258894",
   "metadata": {},
   "source": [
    "### 정리\n",
    "- 간단한 요청이었기에 결과물의 퀄리티가 높지는 않지만 우리가 요청한 내용들이 잘 반영되어 있음\n",
    "- Assistants API 를 사용하면 일반 대화형 모델로 하기 힘든 파일 제작등과 같은 특정 task의 결과물을 얻을 수 있음"
   ]
  },
  {
   "cell_type": "code",
   "execution_count": null,
   "id": "919adcaa-eb83-4ac3-ad16-1bf03e78230e",
   "metadata": {},
   "outputs": [],
   "source": []
  },
  {
   "cell_type": "code",
   "execution_count": null,
   "id": "1912486e-6f44-4dd9-9898-115e4b4a182c",
   "metadata": {},
   "outputs": [],
   "source": []
  },
  {
   "cell_type": "code",
   "execution_count": null,
   "id": "c16d955d-2279-43ad-95e2-e559aa487de2",
   "metadata": {},
   "outputs": [],
   "source": []
  },
  {
   "cell_type": "code",
   "execution_count": null,
   "id": "917bec37-da43-4fcc-ae33-15015b676ca8",
   "metadata": {},
   "outputs": [],
   "source": []
  }
 ],
 "metadata": {
  "kernelspec": {
   "display_name": "Python [conda env:study] *",
   "language": "python",
   "name": "conda-env-study-py"
  },
  "language_info": {
   "codemirror_mode": {
    "name": "ipython",
    "version": 3
   },
   "file_extension": ".py",
   "mimetype": "text/x-python",
   "name": "python",
   "nbconvert_exporter": "python",
   "pygments_lexer": "ipython3",
   "version": "3.12.7"
  }
 },
 "nbformat": 4,
 "nbformat_minor": 5
}
