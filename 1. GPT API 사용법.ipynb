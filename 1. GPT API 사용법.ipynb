{
 "cells": [
  {
   "cell_type": "markdown",
   "id": "2be33778-4162-4149-9172-b5a9458a900b",
   "metadata": {},
   "source": [
    "## Open Ai에서 지원하는 GPT API 사용실습"
   ]
  },
  {
   "cell_type": "code",
   "execution_count": 7,
   "id": "6712c1a0-65e8-4bcf-ab9e-0cb0c4a278cf",
   "metadata": {},
   "outputs": [
    {
     "name": "stdout",
     "output_type": "stream",
     "text": [
      "Requirement already satisfied: openai in c:\\users\\sj\\anaconda3\\envs\\study\\lib\\site-packages (1.61.0)\n",
      "Requirement already satisfied: anyio<5,>=3.5.0 in c:\\users\\sj\\anaconda3\\envs\\study\\lib\\site-packages (from openai) (4.2.0)\n",
      "Requirement already satisfied: distro<2,>=1.7.0 in c:\\users\\sj\\anaconda3\\envs\\study\\lib\\site-packages (from openai) (1.9.0)\n",
      "Requirement already satisfied: httpx<1,>=0.23.0 in c:\\users\\sj\\anaconda3\\envs\\study\\lib\\site-packages (from openai) (0.27.0)\n",
      "Requirement already satisfied: jiter<1,>=0.4.0 in c:\\users\\sj\\anaconda3\\envs\\study\\lib\\site-packages (from openai) (0.8.2)\n",
      "Requirement already satisfied: pydantic<3,>=1.9.0 in c:\\users\\sj\\anaconda3\\envs\\study\\lib\\site-packages (from openai) (2.8.2)\n",
      "Requirement already satisfied: sniffio in c:\\users\\sj\\anaconda3\\envs\\study\\lib\\site-packages (from openai) (1.3.0)\n",
      "Requirement already satisfied: tqdm>4 in c:\\users\\sj\\anaconda3\\envs\\study\\lib\\site-packages (from openai) (4.66.5)\n",
      "Requirement already satisfied: typing-extensions<5,>=4.11 in c:\\users\\sj\\anaconda3\\envs\\study\\lib\\site-packages (from openai) (4.11.0)\n",
      "Requirement already satisfied: idna>=2.8 in c:\\users\\sj\\anaconda3\\envs\\study\\lib\\site-packages (from anyio<5,>=3.5.0->openai) (3.7)\n",
      "Requirement already satisfied: certifi in c:\\users\\sj\\anaconda3\\envs\\study\\lib\\site-packages (from httpx<1,>=0.23.0->openai) (2024.8.30)\n",
      "Requirement already satisfied: httpcore==1.* in c:\\users\\sj\\anaconda3\\envs\\study\\lib\\site-packages (from httpx<1,>=0.23.0->openai) (1.0.2)\n",
      "Requirement already satisfied: h11<0.15,>=0.13 in c:\\users\\sj\\anaconda3\\envs\\study\\lib\\site-packages (from httpcore==1.*->httpx<1,>=0.23.0->openai) (0.14.0)\n",
      "Requirement already satisfied: annotated-types>=0.4.0 in c:\\users\\sj\\anaconda3\\envs\\study\\lib\\site-packages (from pydantic<3,>=1.9.0->openai) (0.6.0)\n",
      "Requirement already satisfied: pydantic-core==2.20.1 in c:\\users\\sj\\anaconda3\\envs\\study\\lib\\site-packages (from pydantic<3,>=1.9.0->openai) (2.20.1)\n",
      "Requirement already satisfied: colorama in c:\\users\\sj\\anaconda3\\envs\\study\\lib\\site-packages (from tqdm>4->openai) (0.4.6)\n"
     ]
    }
   ],
   "source": [
    "!pip install openai"
   ]
  },
  {
   "cell_type": "code",
   "execution_count": 15,
   "id": "85f2a58b-301d-4440-a072-ce90b3d02317",
   "metadata": {},
   "outputs": [],
   "source": [
    "from openai import OpenAI\n",
    "from getpass import getpass #보안정보를 화면에 표시없이 입력받을 때 사용하는 모델"
   ]
  },
  {
   "cell_type": "markdown",
   "id": "44e42b54-7437-406d-8a24-e5dbe7f79e75",
   "metadata": {},
   "source": [
    "## API Key 설정\n",
    "- API key는 보안상 겉으로 보이지 않는 것이 좋으므로 감춰서 사용하자"
   ]
  },
  {
   "cell_type": "code",
   "execution_count": null,
   "id": "a0ab4dab-7310-4a2c-bb61-a218e368e3c5",
   "metadata": {},
   "outputs": [],
   "source": [
    "#개인의 API Key를 입력\n",
    "MY_API_KEY = getpass('OpenAI API key:')\n"
   ]
  },
  {
   "cell_type": "code",
   "execution_count": 25,
   "id": "d812b315-9c36-4b51-b45a-c639c9586b31",
   "metadata": {},
   "outputs": [],
   "source": [
    "# OpenAI 객체 생성\n",
    "client = OpenAI(api_key=MY_API_KEY)"
   ]
  },
  {
   "cell_type": "markdown",
   "id": "7443308d-5bed-4e02-aca8-440ae3fd2f69",
   "metadata": {},
   "source": [
    "## GPT모델 불러와서 일반적인 질의"
   ]
  },
  {
   "cell_type": "code",
   "execution_count": 37,
   "id": "89401db7-b9cd-4ae1-a62f-f9101e769297",
   "metadata": {},
   "outputs": [],
   "source": [
    "#GPT에게 입력해줄 텍스트 작성\n",
    "question = \"안녕? 오늘 피크닉 가기 좋은 날씨네!\"\n",
    "\n",
    "#chat.completions.create : OpenAI의 채팅 API를 생성하는 함\n",
    "response = client.chat.completions.create(model= 'gpt-3.5-turbo',\n",
    "                                             #messages: 질의에 대한 정보를 설정하는 매개변수\n",
    "                                            #role은 system, user, assistant 중 하나로 지정 가능(system에는 사용자의 질의가 입력되기 전 모델에게 숙지시켜놓는 대전제가 됨)\n",
    "                                            \n",
    "                                          messages= [{'role': 'user', 'content':question}],\n",
    "                                             #max_tokens: 모델이 생성할 응답의 최대 토큰 수 지정\n",
    "                                          max_tokens= 150,\n",
    "                                             #temperature: 응답의 창의성 정도 설정(디폴트는 0.7, 0~2사이의 실수값으로 조정, 0은 항상 일관된 값, 2는 창의적 응답)\n",
    "                                          temperature=0\n",
    "                                         )\n",
    "                                            "
   ]
  },
  {
   "cell_type": "code",
   "execution_count": 38,
   "id": "cf5054cd-053d-4b61-9e4e-659fcf3baf09",
   "metadata": {},
   "outputs": [
    {
     "data": {
      "text/plain": [
       "ChatCompletion(id='chatcmpl-AwkHEQe1nFqsCx9x0B99zP9OE7e2f', choices=[Choice(finish_reason='stop', index=0, logprobs=None, message=ChatCompletionMessage(content='네, 날씨가 좋아서 피크닉하기 딱 좋은 날이네요! 즐거운 시간 보내세요!', refusal=None, role='assistant', audio=None, function_call=None, tool_calls=None))], created=1738564276, model='gpt-3.5-turbo-0125', object='chat.completion', service_tier='default', system_fingerprint=None, usage=CompletionUsage(completion_tokens=44, prompt_tokens=34, total_tokens=78, completion_tokens_details=CompletionTokensDetails(accepted_prediction_tokens=0, audio_tokens=0, reasoning_tokens=0, rejected_prediction_tokens=0), prompt_tokens_details=PromptTokensDetails(audio_tokens=0, cached_tokens=0)))"
      ]
     },
     "execution_count": 38,
     "metadata": {},
     "output_type": "execute_result"
    }
   ],
   "source": [
    "response\n"
   ]
  },
  {
   "cell_type": "code",
   "execution_count": 40,
   "id": "f8572654-5a32-4e82-b9bf-3234cdbe4c27",
   "metadata": {},
   "outputs": [
    {
     "data": {
      "text/plain": [
       "openai.types.chat.chat_completion.ChatCompletion"
      ]
     },
     "execution_count": 40,
     "metadata": {},
     "output_type": "execute_result"
    }
   ],
   "source": [
    "type(response)"
   ]
  },
  {
   "cell_type": "markdown",
   "id": "6b33ae90-bbc4-4da8-a23c-4dfeb5498865",
   "metadata": {},
   "source": [
    "## ChatCompletion 객체에는 사용자의 요청과 모델의 응답에 대한 정보가 담겨져 있음\n",
    "- content에 실제 텍스트 응답이 있으며, role에는 역할, model에는 사용된 모델명, usage에는 토큰 사용량에 대한 정보가 담겨져 있음\n",
    "- 모델이 응답할 때 role은 항상 assistant로 출력됨(우리가 질의할때는 user로 질의해야함)\n",
    "- usage에 prompt_tokens은 입력토큰(질의)의 수, completion_tokens는 출력토큰(응답)의 수가 됨"
   ]
  },
  {
   "cell_type": "code",
   "execution_count": 42,
   "id": "fb6ccad1-9ba7-4e04-9d2e-fca3254a40cf",
   "metadata": {},
   "outputs": [
    {
     "data": {
      "text/plain": [
       "'chatcmpl-AwkHEQe1nFqsCx9x0B99zP9OE7e2f'"
      ]
     },
     "execution_count": 42,
     "metadata": {},
     "output_type": "execute_result"
    }
   ],
   "source": [
    "response.id #문자열출력"
   ]
  },
  {
   "cell_type": "code",
   "execution_count": 44,
   "id": "90b4e4ba-e333-4702-b218-75c8942fd24b",
   "metadata": {},
   "outputs": [
    {
     "data": {
      "text/plain": [
       "[Choice(finish_reason='stop', index=0, logprobs=None, message=ChatCompletionMessage(content='네, 날씨가 좋아서 피크닉하기 딱 좋은 날이네요! 즐거운 시간 보내세요!', refusal=None, role='assistant', audio=None, function_call=None, tool_calls=None))]"
      ]
     },
     "execution_count": 44,
     "metadata": {},
     "output_type": "execute_result"
    }
   ],
   "source": [
    "response.choices #리스트출력"
   ]
  },
  {
   "cell_type": "code",
   "execution_count": 50,
   "id": "748c87f0-beb4-4728-87a3-a784c89f1720",
   "metadata": {},
   "outputs": [
    {
     "data": {
      "text/plain": [
       "Choice(finish_reason='stop', index=0, logprobs=None, message=ChatCompletionMessage(content='네, 날씨가 좋아서 피크닉하기 딱 좋은 날이네요! 즐거운 시간 보내세요!', refusal=None, role='assistant', audio=None, function_call=None, tool_calls=None))"
      ]
     },
     "execution_count": 50,
     "metadata": {},
     "output_type": "execute_result"
    }
   ],
   "source": [
    "response.choices[0]"
   ]
  },
  {
   "cell_type": "code",
   "execution_count": 53,
   "id": "6cb2a93c-4cc4-4cda-8b9e-638f500bde02",
   "metadata": {},
   "outputs": [
    {
     "data": {
      "text/plain": [
       "ChatCompletionMessage(content='네, 날씨가 좋아서 피크닉하기 딱 좋은 날이네요! 즐거운 시간 보내세요!', refusal=None, role='assistant', audio=None, function_call=None, tool_calls=None)"
      ]
     },
     "execution_count": 53,
     "metadata": {},
     "output_type": "execute_result"
    }
   ],
   "source": [
    "response.choices[0].message"
   ]
  },
  {
   "cell_type": "code",
   "execution_count": 54,
   "id": "72c022f4-c60c-4c63-94d9-401584867339",
   "metadata": {},
   "outputs": [
    {
     "data": {
      "text/plain": [
       "'네, 날씨가 좋아서 피크닉하기 딱 좋은 날이네요! 즐거운 시간 보내세요!'"
      ]
     },
     "execution_count": 54,
     "metadata": {},
     "output_type": "execute_result"
    }
   ],
   "source": [
    "response.choices[0].message.content"
   ]
  },
  {
   "cell_type": "markdown",
   "id": "99661e6b-cc15-44a3-a988-367a06ae5337",
   "metadata": {},
   "source": [
    "## 자주 발생되는 코드 에러\n",
    "- RatelimitError: API 크레딧 금액 한도를 초과한 경우\n",
    "- InvalidRequestError: 잘못된 요청이 발생한 경우\n",
    "- APIConncctionEror: API 서버와의 여결 문제로 발생\n",
    "- OpenAIError: 일방적인 openai라이브러리 사용시 발생되는 에러\n"
   ]
  },
  {
   "cell_type": "markdown",
   "id": "e4a4e3fc-9a67-4669-8091-f73f21016712",
   "metadata": {},
   "source": [
    "## 프로그래밍 기술적인 내용 질의"
   ]
  },
  {
   "cell_type": "code",
   "execution_count": 55,
   "id": "11f1891e-9975-4e79-a6d4-b9d88d7dfe58",
   "metadata": {},
   "outputs": [
    {
     "data": {
      "text/plain": [
       "\"Pandas DataFrame에서 중복항목을 제거하기 위해서는 `drop_duplicates()` 메소드를 사용하면 됩니다. \\n\\n예를 들어, 'df' 라는 DataFrame에서 중복항목들을 제거하기 위해서는 아래와 같이 코드를 작성할 수 있습니다.\\n\\n```python\\ndf.drop_duplicates()\\n```\\n\\n이렇게 하면 'df' DataFrame에서 중복된 항목들이 제거된 새로운 DataFrame이 반환됩니다. 필요에 따라 기존 DataFrame을 덮어쓰려면 `inplace=True` 인자를 추가해주면 됩니다\""
      ]
     },
     "execution_count": 55,
     "metadata": {},
     "output_type": "execute_result"
    }
   ],
   "source": [
    "question = \"Pandas DataFrame에서 중복항목을 제거하는 방법은?\"\n",
    "\n",
    "response = client.chat.completions.create(model= 'gpt-3.5-turbo',\n",
    "                                          messages= [{'role': 'user', 'content':question}],\n",
    "                                          max_tokens= 150\n",
    "                                         )\n",
    "\n",
    "response.choices[0].message.content"
   ]
  },
  {
   "cell_type": "code",
   "execution_count": 56,
   "id": "a7d932e8-dfdf-4bc3-9b1d-5647a5c22d94",
   "metadata": {},
   "outputs": [
    {
     "name": "stdout",
     "output_type": "stream",
     "text": [
      "Pandas DataFrame에서 중복항목을 제거하기 위해서는 `drop_duplicates()` 메소드를 사용하면 됩니다. \n",
      "\n",
      "예를 들어, 'df' 라는 DataFrame에서 중복항목들을 제거하기 위해서는 아래와 같이 코드를 작성할 수 있습니다.\n",
      "\n",
      "```python\n",
      "df.drop_duplicates()\n",
      "```\n",
      "\n",
      "이렇게 하면 'df' DataFrame에서 중복된 항목들이 제거된 새로운 DataFrame이 반환됩니다. 필요에 따라 기존 DataFrame을 덮어쓰려면 `inplace=True` 인자를 추가해주면 됩니다\n"
     ]
    }
   ],
   "source": [
    "#일반적인 코드라면 이스케이프문까지 표기되지만 print문으로 깔끔하게 출력가능\n",
    "\n",
    "print(response.choices[0].message.content)"
   ]
  },
  {
   "cell_type": "code",
   "execution_count": 68,
   "id": "f434e6ed-2455-4b90-8c3a-193a10579aae",
   "metadata": {},
   "outputs": [
    {
     "name": "stdout",
     "output_type": "stream",
     "text": [
      "죄송합니다. 판매 데이터가 주어지지 않았기 때문에 구체적인 막대차트를 생성해드릴 수는 없습니다. 만약 판매 데이터를 제공해주신다면, 해당 데이터를 활용하여 막대차트를 생성해드릴 수 있습니다. 데이터를 제공해주시면 감사하겠습니다.\n"
     ]
    }
   ],
   "source": [
    "question = \"지난 1년간의 판매 데이터를 시각화 하기 위한 막대차트를 생성해줘\"\n",
    "\n",
    "response = client.chat.completions.create(model= 'gpt-3.5-turbo',\n",
    "                                          messages= [{'role': 'user', 'content':question}],\n",
    "                                          max_tokens= 150\n",
    "                                         )\n",
    "\n",
    "print(response.choices[0].message.content)"
   ]
  },
  {
   "cell_type": "code",
   "execution_count": 70,
   "id": "deffce77-8d62-4953-9a48-75ad9dc8a648",
   "metadata": {},
   "outputs": [
    {
     "name": "stdout",
     "output_type": "stream",
     "text": [
      "막대차트를 생성하려면 수집된 판매 데이터가 필요합니다. 일반적인 지침으로 데이터를 가정하고 Python 프로그래밍 언어를 사용하여 막대차트를 생성하는 과정을 설명하겠습니다. \n",
      "\n",
      "Python의 `matplotlib`와 `pandas` 라이브러리를 사용할 수 있습니다. 다음은 샘플 코드를 포함한 과정입니다:\n",
      "\n",
      "1. **필요한 라이브러리 설치하기**: 먼저 Python 환경에 필요한 패키지를 설치해야 합니다. \n",
      "   ```bash\n",
      "   pip install matplotlib pandas\n",
      "   ```\n",
      "\n",
      "2. **데이터 준비하기**: 판매 데이터를 판다스 데이터프레임으로 준비합니다. 데이터는 '월'과 '판매량'의 두 열로 구성되어 있다고 가정합니다.\n",
      "\n",
      "3. **막대차트 생성하기**:\n",
      "   ```python\n",
      "   import pandas as pd\n",
      "   import matplotlib.pyplot as plt\n",
      "\n",
      "   # 가상의 판매 데이터 생성\n",
      "   data = {\n",
      "       '월': ['2022-11', '2022-12', '2023-01', '2023-02', '2023-03', '2023-04', \n",
      "              '2023-05', '2023-06', '2023-07', '2023-08', '2023-09', '2023-10'],\n",
      "       '판매량': [150, 200, 180, 220, 210, 230, 190, 250, 210, 240, 260, 300]\n",
      "   }\n",
      "   \n",
      "   df = pd.DataFrame(data)\n",
      "\n",
      "   # 막대차트 생성\n",
      "   plt.figure(figsize=(10, 6))\n",
      "   plt.bar(df['월'], df['판매량'], color='skyblue')\n",
      "   plt.title('월별 판매 데이터')\n",
      "   plt.xlabel('월')\n",
      "   plt.ylabel('판매량')\n",
      "   plt.xticks(rotation=45)\n",
      "   plt.grid(axis='y')\n",
      "\n",
      "   # 차트 출력\n",
      "   plt.show()\n",
      "   ```\n",
      "\n",
      "이 코드는 `matplotlib`를 사용하여 각 월의 판매 데이터를 바(bar) 형태로 시각화합니다. 실제 데이터에 따라 `data` 딕셔너리를 수정하면 됩니다. `plt.xticks(rotation=45)`는 x축 레이블을 45도로 회전시켜 가독성을 높입니다.\n"
     ]
    }
   ],
   "source": [
    "question = \"지난 1년간의 판매 데이터를 시각화 하기 위한 막대차트를 생성해줘\"\n",
    "\n",
    "response = client.chat.completions.create(model= \"gpt-4o\",\n",
    "                                          messages= [{'role': 'user', 'content':question}]\n",
    "                                         )\n",
    "\n",
    "print(response.choices[0].message.content)"
   ]
  },
  {
   "cell_type": "markdown",
   "id": "8e4396ae-e8ae-49aa-8631-09c22a1003fd",
   "metadata": {},
   "source": [
    "- ChatGPT 서비스를 이용한다면 실제 시각화된 이미지까지 출력을 해주겠지만 지금은 주피터노트북에서 api로 동작시키는 것이기에 직접 시각화 되지 않고 코드로 제공됨"
   ]
  },
  {
   "cell_type": "markdown",
   "id": "8c96dfb2-d533-4d9b-bf29-c1413d84f838",
   "metadata": {},
   "source": [
    "## 입력한 파일에 대한 분석 요청\n",
    "- 파일과 질의를 구분해서 사용자 정의 함수 만들기 "
   ]
  },
  {
   "cell_type": "code",
   "execution_count": 76,
   "id": "1f594ec1-c40d-483e-938c-0473f76be6c6",
   "metadata": {},
   "outputs": [],
   "source": [
    "#파일이 있는 위치를 data에, 질의를 question에, 모델명을 model에 넣을 예정\n",
    "def analysis_data(data, question, model):\n",
    "    prompt = f'Data: {data}\\nQuestion: {question}'\n",
    "    response= client.chat.completions.create(model= model,\n",
    "                                          messages= [{'role': 'user', 'content':prompt}],\n",
    "                                             max_tokens=500\n",
    "                                             )\n",
    "    return response.choices[0].message.content"
   ]
  },
  {
   "cell_type": "code",
   "execution_count": 77,
   "id": "59838ece-0f5e-4590-9a37-06adfbf20fb0",
   "metadata": {},
   "outputs": [
    {
     "name": "stdout",
     "output_type": "stream",
     "text": [
      "해당 데이터에는 총 500명의 BMI 데이터가 있습니다. 이 중에서 각 범주별로 몇 명이 있는지 확인해 보겠습니다.\n",
      "\n",
      "- 저체중: 50명\n",
      "- 정상: 150명\n",
      "- 과체중: 200명\n",
      "- 비만: 100명\n",
      "- 고도비만: 0명\n",
      "\n",
      "따라서, 총 500명 중 50명이 저체중, 150명이 정상, 200명이 과체중, 100명이 비만이고, 고도비만인 사람은 없습니다.\n",
      "None\n"
     ]
    }
   ],
   "source": [
    "data= 'data/bmi_500.csv'\n",
    "question= '해당 데이터는 500명의 bmi점수야, 저체중부터 고도비만까지 데이터의 개수를 파악해서 출력해줘'\n",
    "model='gpt-3.5-turbo'\n",
    "\n",
    "result = analysis_data(data, question, model)\n",
    "print(result)"
   ]
  },
  {
   "cell_type": "markdown",
   "id": "dd135721-c1fd-468b-a786-a8671b383e3d",
   "metadata": {},
   "source": [
    "## 정리\n",
    "- API 를 활용하여 로컬 PC 에서 결과를 출력하려 한다면 사용자별로 환경이 다르기 때문에 시각화 요청에 대해 누구나 할용할 수 있는 코드 형태로 제공됨\n",
    "- ChatGPT 웹 서비스에서는 3.5-turbo 버전에서 파일 입력이 불가하지만, 3.5-turbo API를 호출하여 사용하는 경우 로컬 pc의 파일을 입력할 수 있음"
   ]
  },
  {
   "cell_type": "code",
   "execution_count": null,
   "id": "74b29c21-b9f2-4966-bfe1-7e31922d3d53",
   "metadata": {},
   "outputs": [],
   "source": []
  }
 ],
 "metadata": {
  "kernelspec": {
   "display_name": "Python [conda env:study] *",
   "language": "python",
   "name": "conda-env-study-py"
  },
  "language_info": {
   "codemirror_mode": {
    "name": "ipython",
    "version": 3
   },
   "file_extension": ".py",
   "mimetype": "text/x-python",
   "name": "python",
   "nbconvert_exporter": "python",
   "pygments_lexer": "ipython3",
   "version": "3.12.7"
  }
 },
 "nbformat": 4,
 "nbformat_minor": 5
}
