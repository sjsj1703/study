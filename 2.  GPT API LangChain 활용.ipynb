{
 "cells": [
  {
   "cell_type": "markdown",
   "id": "21cb2c8f-3558-49ef-acf3-b07fce6b67e9",
   "metadata": {},
   "source": [
    "## Langchain 라이브러리의 활용"
   ]
  },
  {
   "cell_type": "markdown",
   "id": "5bd72d56-4fc2-4575-b700-422f7c746966",
   "metadata": {},
   "source": [
    "### LangChain(2022.10)\n",
    "- 자연어처리(NLP)와 사전 학습된 LLM 모델을 사용하여 다양한 응용프로그램을 구축할 수 있게 해주는 라이브러리(설계 및 배포 기능까지 지원함)\n",
    "- 데이터베이스, API, 외부 서비스 등과의 통합을 지원하는 인터페이스 제공(openai외에도 Anthropic, Hugging Face, Google 등 다양한 기업들의 LLM과 연동됨)\n",
    "- RAG 구현을 위한 기본적인 인터페이스와 임베딩, Advanced RAG 등의 기능을 제공\n",
    "- ALMessage, UserMesage, SystemMessage 등의 클래스로 대화 메시지를 처리하고 관리함\n",
    "- 공식 페이지 : https://www.langchain.com/\n",
    "- langchain docs 페이지 : https://python.langchain.com/v0.2/docs/introduction/"
   ]
  },
  {
   "cell_type": "code",
   "execution_count": 22,
   "id": "5f819b88-7d10-4113-bf09-93d9db4090b5",
   "metadata": {},
   "outputs": [
    {
     "name": "stdout",
     "output_type": "stream",
     "text": [
      "Requirement already satisfied: langchain in c:\\users\\sj\\anaconda3\\envs\\study\\lib\\site-packages (0.3.17)\n",
      "Requirement already satisfied: PyYAML>=5.3 in c:\\users\\sj\\anaconda3\\envs\\study\\lib\\site-packages (from langchain) (6.0.1)\n",
      "Requirement already satisfied: SQLAlchemy<3,>=1.4 in c:\\users\\sj\\anaconda3\\envs\\study\\lib\\site-packages (from langchain) (2.0.34)\n",
      "Requirement already satisfied: aiohttp<4.0.0,>=3.8.3 in c:\\users\\sj\\anaconda3\\envs\\study\\lib\\site-packages (from langchain) (3.10.5)\n",
      "Requirement already satisfied: langchain-core<0.4.0,>=0.3.33 in c:\\users\\sj\\anaconda3\\envs\\study\\lib\\site-packages (from langchain) (0.3.33)\n",
      "Requirement already satisfied: langchain-text-splitters<0.4.0,>=0.3.3 in c:\\users\\sj\\anaconda3\\envs\\study\\lib\\site-packages (from langchain) (0.3.5)\n",
      "Requirement already satisfied: langsmith<0.4,>=0.1.17 in c:\\users\\sj\\anaconda3\\envs\\study\\lib\\site-packages (from langchain) (0.3.4)\n",
      "Requirement already satisfied: numpy<3,>=1.26.2 in c:\\users\\sj\\anaconda3\\envs\\study\\lib\\site-packages (from langchain) (1.26.4)\n",
      "Requirement already satisfied: pydantic<3.0.0,>=2.7.4 in c:\\users\\sj\\anaconda3\\envs\\study\\lib\\site-packages (from langchain) (2.8.2)\n",
      "Requirement already satisfied: requests<3,>=2 in c:\\users\\sj\\anaconda3\\envs\\study\\lib\\site-packages (from langchain) (2.32.3)\n",
      "Requirement already satisfied: tenacity!=8.4.0,<10,>=8.1.0 in c:\\users\\sj\\anaconda3\\envs\\study\\lib\\site-packages (from langchain) (8.2.3)\n",
      "Requirement already satisfied: aiohappyeyeballs>=2.3.0 in c:\\users\\sj\\anaconda3\\envs\\study\\lib\\site-packages (from aiohttp<4.0.0,>=3.8.3->langchain) (2.4.0)\n",
      "Requirement already satisfied: aiosignal>=1.1.2 in c:\\users\\sj\\anaconda3\\envs\\study\\lib\\site-packages (from aiohttp<4.0.0,>=3.8.3->langchain) (1.2.0)\n",
      "Requirement already satisfied: attrs>=17.3.0 in c:\\users\\sj\\anaconda3\\envs\\study\\lib\\site-packages (from aiohttp<4.0.0,>=3.8.3->langchain) (24.3.0)\n",
      "Requirement already satisfied: frozenlist>=1.1.1 in c:\\users\\sj\\anaconda3\\envs\\study\\lib\\site-packages (from aiohttp<4.0.0,>=3.8.3->langchain) (1.4.0)\n",
      "Requirement already satisfied: multidict<7.0,>=4.5 in c:\\users\\sj\\anaconda3\\envs\\study\\lib\\site-packages (from aiohttp<4.0.0,>=3.8.3->langchain) (6.0.4)\n",
      "Requirement already satisfied: yarl<2.0,>=1.0 in c:\\users\\sj\\anaconda3\\envs\\study\\lib\\site-packages (from aiohttp<4.0.0,>=3.8.3->langchain) (1.11.0)\n",
      "Requirement already satisfied: jsonpatch<2.0,>=1.33 in c:\\users\\sj\\anaconda3\\envs\\study\\lib\\site-packages (from langchain-core<0.4.0,>=0.3.33->langchain) (1.33)\n",
      "Requirement already satisfied: packaging<25,>=23.2 in c:\\users\\sj\\anaconda3\\envs\\study\\lib\\site-packages (from langchain-core<0.4.0,>=0.3.33->langchain) (24.1)\n",
      "Requirement already satisfied: typing-extensions>=4.7 in c:\\users\\sj\\anaconda3\\envs\\study\\lib\\site-packages (from langchain-core<0.4.0,>=0.3.33->langchain) (4.11.0)\n",
      "Requirement already satisfied: httpx<1,>=0.23.0 in c:\\users\\sj\\anaconda3\\envs\\study\\lib\\site-packages (from langsmith<0.4,>=0.1.17->langchain) (0.27.0)\n",
      "Requirement already satisfied: orjson<4.0.0,>=3.9.14 in c:\\users\\sj\\anaconda3\\envs\\study\\lib\\site-packages (from langsmith<0.4,>=0.1.17->langchain) (3.10.15)\n",
      "Requirement already satisfied: requests-toolbelt<2.0.0,>=1.0.0 in c:\\users\\sj\\anaconda3\\envs\\study\\lib\\site-packages (from langsmith<0.4,>=0.1.17->langchain) (1.0.0)\n",
      "Requirement already satisfied: zstandard<0.24.0,>=0.23.0 in c:\\users\\sj\\anaconda3\\envs\\study\\lib\\site-packages (from langsmith<0.4,>=0.1.17->langchain) (0.23.0)\n",
      "Requirement already satisfied: annotated-types>=0.4.0 in c:\\users\\sj\\anaconda3\\envs\\study\\lib\\site-packages (from pydantic<3.0.0,>=2.7.4->langchain) (0.6.0)\n",
      "Requirement already satisfied: pydantic-core==2.20.1 in c:\\users\\sj\\anaconda3\\envs\\study\\lib\\site-packages (from pydantic<3.0.0,>=2.7.4->langchain) (2.20.1)\n",
      "Requirement already satisfied: charset-normalizer<4,>=2 in c:\\users\\sj\\anaconda3\\envs\\study\\lib\\site-packages (from requests<3,>=2->langchain) (3.3.2)\n",
      "Requirement already satisfied: idna<4,>=2.5 in c:\\users\\sj\\anaconda3\\envs\\study\\lib\\site-packages (from requests<3,>=2->langchain) (3.7)\n",
      "Requirement already satisfied: urllib3<3,>=1.21.1 in c:\\users\\sj\\anaconda3\\envs\\study\\lib\\site-packages (from requests<3,>=2->langchain) (2.2.3)\n",
      "Requirement already satisfied: certifi>=2017.4.17 in c:\\users\\sj\\anaconda3\\envs\\study\\lib\\site-packages (from requests<3,>=2->langchain) (2024.8.30)\n",
      "Requirement already satisfied: greenlet!=0.4.17 in c:\\users\\sj\\anaconda3\\envs\\study\\lib\\site-packages (from SQLAlchemy<3,>=1.4->langchain) (3.0.1)\n",
      "Requirement already satisfied: anyio in c:\\users\\sj\\anaconda3\\envs\\study\\lib\\site-packages (from httpx<1,>=0.23.0->langsmith<0.4,>=0.1.17->langchain) (4.2.0)\n",
      "Requirement already satisfied: httpcore==1.* in c:\\users\\sj\\anaconda3\\envs\\study\\lib\\site-packages (from httpx<1,>=0.23.0->langsmith<0.4,>=0.1.17->langchain) (1.0.2)\n",
      "Requirement already satisfied: sniffio in c:\\users\\sj\\anaconda3\\envs\\study\\lib\\site-packages (from httpx<1,>=0.23.0->langsmith<0.4,>=0.1.17->langchain) (1.3.0)\n",
      "Requirement already satisfied: h11<0.15,>=0.13 in c:\\users\\sj\\anaconda3\\envs\\study\\lib\\site-packages (from httpcore==1.*->httpx<1,>=0.23.0->langsmith<0.4,>=0.1.17->langchain) (0.14.0)\n",
      "Requirement already satisfied: jsonpointer>=1.9 in c:\\users\\sj\\anaconda3\\envs\\study\\lib\\site-packages (from jsonpatch<2.0,>=1.33->langchain-core<0.4.0,>=0.3.33->langchain) (2.1)\n"
     ]
    }
   ],
   "source": [
    "!pip install langchain"
   ]
  },
  {
   "cell_type": "code",
   "execution_count": 25,
   "id": "99f8d84e-f895-4b06-bde3-31cd2304585f",
   "metadata": {},
   "outputs": [
    {
     "name": "stdout",
     "output_type": "stream",
     "text": [
      "Requirement already satisfied: langchain-openai in c:\\users\\sj\\anaconda3\\envs\\study\\lib\\site-packages (0.3.3)\n",
      "Requirement already satisfied: langchain-core<0.4.0,>=0.3.33 in c:\\users\\sj\\anaconda3\\envs\\study\\lib\\site-packages (from langchain-openai) (0.3.33)\n",
      "Requirement already satisfied: openai<2.0.0,>=1.58.1 in c:\\users\\sj\\anaconda3\\envs\\study\\lib\\site-packages (from langchain-openai) (1.61.0)\n",
      "Requirement already satisfied: tiktoken<1,>=0.7 in c:\\users\\sj\\anaconda3\\envs\\study\\lib\\site-packages (from langchain-openai) (0.8.0)\n",
      "Requirement already satisfied: PyYAML>=5.3 in c:\\users\\sj\\anaconda3\\envs\\study\\lib\\site-packages (from langchain-core<0.4.0,>=0.3.33->langchain-openai) (6.0.1)\n",
      "Requirement already satisfied: jsonpatch<2.0,>=1.33 in c:\\users\\sj\\anaconda3\\envs\\study\\lib\\site-packages (from langchain-core<0.4.0,>=0.3.33->langchain-openai) (1.33)\n",
      "Requirement already satisfied: langsmith<0.4,>=0.1.125 in c:\\users\\sj\\anaconda3\\envs\\study\\lib\\site-packages (from langchain-core<0.4.0,>=0.3.33->langchain-openai) (0.3.4)\n",
      "Requirement already satisfied: packaging<25,>=23.2 in c:\\users\\sj\\anaconda3\\envs\\study\\lib\\site-packages (from langchain-core<0.4.0,>=0.3.33->langchain-openai) (24.1)\n",
      "Requirement already satisfied: pydantic<3.0.0,>=2.7.4 in c:\\users\\sj\\anaconda3\\envs\\study\\lib\\site-packages (from langchain-core<0.4.0,>=0.3.33->langchain-openai) (2.8.2)\n",
      "Requirement already satisfied: tenacity!=8.4.0,<10.0.0,>=8.1.0 in c:\\users\\sj\\anaconda3\\envs\\study\\lib\\site-packages (from langchain-core<0.4.0,>=0.3.33->langchain-openai) (8.2.3)\n",
      "Requirement already satisfied: typing-extensions>=4.7 in c:\\users\\sj\\anaconda3\\envs\\study\\lib\\site-packages (from langchain-core<0.4.0,>=0.3.33->langchain-openai) (4.11.0)\n",
      "Requirement already satisfied: anyio<5,>=3.5.0 in c:\\users\\sj\\anaconda3\\envs\\study\\lib\\site-packages (from openai<2.0.0,>=1.58.1->langchain-openai) (4.2.0)\n",
      "Requirement already satisfied: distro<2,>=1.7.0 in c:\\users\\sj\\anaconda3\\envs\\study\\lib\\site-packages (from openai<2.0.0,>=1.58.1->langchain-openai) (1.9.0)\n",
      "Requirement already satisfied: httpx<1,>=0.23.0 in c:\\users\\sj\\anaconda3\\envs\\study\\lib\\site-packages (from openai<2.0.0,>=1.58.1->langchain-openai) (0.27.0)\n",
      "Requirement already satisfied: jiter<1,>=0.4.0 in c:\\users\\sj\\anaconda3\\envs\\study\\lib\\site-packages (from openai<2.0.0,>=1.58.1->langchain-openai) (0.8.2)\n",
      "Requirement already satisfied: sniffio in c:\\users\\sj\\anaconda3\\envs\\study\\lib\\site-packages (from openai<2.0.0,>=1.58.1->langchain-openai) (1.3.0)\n",
      "Requirement already satisfied: tqdm>4 in c:\\users\\sj\\anaconda3\\envs\\study\\lib\\site-packages (from openai<2.0.0,>=1.58.1->langchain-openai) (4.66.5)\n",
      "Requirement already satisfied: regex>=2022.1.18 in c:\\users\\sj\\anaconda3\\envs\\study\\lib\\site-packages (from tiktoken<1,>=0.7->langchain-openai) (2024.9.11)\n",
      "Requirement already satisfied: requests>=2.26.0 in c:\\users\\sj\\anaconda3\\envs\\study\\lib\\site-packages (from tiktoken<1,>=0.7->langchain-openai) (2.32.3)\n",
      "Requirement already satisfied: idna>=2.8 in c:\\users\\sj\\anaconda3\\envs\\study\\lib\\site-packages (from anyio<5,>=3.5.0->openai<2.0.0,>=1.58.1->langchain-openai) (3.7)\n",
      "Requirement already satisfied: certifi in c:\\users\\sj\\anaconda3\\envs\\study\\lib\\site-packages (from httpx<1,>=0.23.0->openai<2.0.0,>=1.58.1->langchain-openai) (2024.8.30)\n",
      "Requirement already satisfied: httpcore==1.* in c:\\users\\sj\\anaconda3\\envs\\study\\lib\\site-packages (from httpx<1,>=0.23.0->openai<2.0.0,>=1.58.1->langchain-openai) (1.0.2)\n",
      "Requirement already satisfied: h11<0.15,>=0.13 in c:\\users\\sj\\anaconda3\\envs\\study\\lib\\site-packages (from httpcore==1.*->httpx<1,>=0.23.0->openai<2.0.0,>=1.58.1->langchain-openai) (0.14.0)\n",
      "Requirement already satisfied: jsonpointer>=1.9 in c:\\users\\sj\\anaconda3\\envs\\study\\lib\\site-packages (from jsonpatch<2.0,>=1.33->langchain-core<0.4.0,>=0.3.33->langchain-openai) (2.1)\n",
      "Requirement already satisfied: orjson<4.0.0,>=3.9.14 in c:\\users\\sj\\anaconda3\\envs\\study\\lib\\site-packages (from langsmith<0.4,>=0.1.125->langchain-core<0.4.0,>=0.3.33->langchain-openai) (3.10.15)\n",
      "Requirement already satisfied: requests-toolbelt<2.0.0,>=1.0.0 in c:\\users\\sj\\anaconda3\\envs\\study\\lib\\site-packages (from langsmith<0.4,>=0.1.125->langchain-core<0.4.0,>=0.3.33->langchain-openai) (1.0.0)\n",
      "Requirement already satisfied: zstandard<0.24.0,>=0.23.0 in c:\\users\\sj\\anaconda3\\envs\\study\\lib\\site-packages (from langsmith<0.4,>=0.1.125->langchain-core<0.4.0,>=0.3.33->langchain-openai) (0.23.0)\n",
      "Requirement already satisfied: annotated-types>=0.4.0 in c:\\users\\sj\\anaconda3\\envs\\study\\lib\\site-packages (from pydantic<3.0.0,>=2.7.4->langchain-core<0.4.0,>=0.3.33->langchain-openai) (0.6.0)\n",
      "Requirement already satisfied: pydantic-core==2.20.1 in c:\\users\\sj\\anaconda3\\envs\\study\\lib\\site-packages (from pydantic<3.0.0,>=2.7.4->langchain-core<0.4.0,>=0.3.33->langchain-openai) (2.20.1)\n",
      "Requirement already satisfied: charset-normalizer<4,>=2 in c:\\users\\sj\\anaconda3\\envs\\study\\lib\\site-packages (from requests>=2.26.0->tiktoken<1,>=0.7->langchain-openai) (3.3.2)\n",
      "Requirement already satisfied: urllib3<3,>=1.21.1 in c:\\users\\sj\\anaconda3\\envs\\study\\lib\\site-packages (from requests>=2.26.0->tiktoken<1,>=0.7->langchain-openai) (2.2.3)\n",
      "Requirement already satisfied: colorama in c:\\users\\sj\\anaconda3\\envs\\study\\lib\\site-packages (from tqdm>4->openai<2.0.0,>=1.58.1->langchain-openai) (0.4.6)\n"
     ]
    }
   ],
   "source": [
    "#Langchain 과 openai의 GPT 모델을 결합한 기능을 제공\n",
    "!pip install langchain-openai"
   ]
  },
  {
   "cell_type": "code",
   "execution_count": 26,
   "id": "405e9980-31b9-4a13-95bb-59c374a168f9",
   "metadata": {},
   "outputs": [
    {
     "name": "stdout",
     "output_type": "stream",
     "text": [
      "Requirement already satisfied: langchain_community in c:\\users\\sj\\anaconda3\\envs\\study\\lib\\site-packages (0.3.16)\n",
      "Requirement already satisfied: PyYAML>=5.3 in c:\\users\\sj\\anaconda3\\envs\\study\\lib\\site-packages (from langchain_community) (6.0.1)\n",
      "Requirement already satisfied: SQLAlchemy<3,>=1.4 in c:\\users\\sj\\anaconda3\\envs\\study\\lib\\site-packages (from langchain_community) (2.0.34)\n",
      "Requirement already satisfied: aiohttp<4.0.0,>=3.8.3 in c:\\users\\sj\\anaconda3\\envs\\study\\lib\\site-packages (from langchain_community) (3.10.5)\n",
      "Requirement already satisfied: dataclasses-json<0.7,>=0.5.7 in c:\\users\\sj\\anaconda3\\envs\\study\\lib\\site-packages (from langchain_community) (0.6.7)\n",
      "Requirement already satisfied: httpx-sse<0.5.0,>=0.4.0 in c:\\users\\sj\\anaconda3\\envs\\study\\lib\\site-packages (from langchain_community) (0.4.0)\n",
      "Requirement already satisfied: langchain<0.4.0,>=0.3.16 in c:\\users\\sj\\anaconda3\\envs\\study\\lib\\site-packages (from langchain_community) (0.3.17)\n",
      "Requirement already satisfied: langchain-core<0.4.0,>=0.3.32 in c:\\users\\sj\\anaconda3\\envs\\study\\lib\\site-packages (from langchain_community) (0.3.33)\n",
      "Requirement already satisfied: langsmith<0.4,>=0.1.125 in c:\\users\\sj\\anaconda3\\envs\\study\\lib\\site-packages (from langchain_community) (0.3.4)\n",
      "Requirement already satisfied: numpy<3,>=1.26.2 in c:\\users\\sj\\anaconda3\\envs\\study\\lib\\site-packages (from langchain_community) (1.26.4)\n",
      "Requirement already satisfied: pydantic-settings<3.0.0,>=2.4.0 in c:\\users\\sj\\anaconda3\\envs\\study\\lib\\site-packages (from langchain_community) (2.7.1)\n",
      "Requirement already satisfied: requests<3,>=2 in c:\\users\\sj\\anaconda3\\envs\\study\\lib\\site-packages (from langchain_community) (2.32.3)\n",
      "Requirement already satisfied: tenacity!=8.4.0,<10,>=8.1.0 in c:\\users\\sj\\anaconda3\\envs\\study\\lib\\site-packages (from langchain_community) (8.2.3)\n",
      "Requirement already satisfied: aiohappyeyeballs>=2.3.0 in c:\\users\\sj\\anaconda3\\envs\\study\\lib\\site-packages (from aiohttp<4.0.0,>=3.8.3->langchain_community) (2.4.0)\n",
      "Requirement already satisfied: aiosignal>=1.1.2 in c:\\users\\sj\\anaconda3\\envs\\study\\lib\\site-packages (from aiohttp<4.0.0,>=3.8.3->langchain_community) (1.2.0)\n",
      "Requirement already satisfied: attrs>=17.3.0 in c:\\users\\sj\\anaconda3\\envs\\study\\lib\\site-packages (from aiohttp<4.0.0,>=3.8.3->langchain_community) (24.3.0)\n",
      "Requirement already satisfied: frozenlist>=1.1.1 in c:\\users\\sj\\anaconda3\\envs\\study\\lib\\site-packages (from aiohttp<4.0.0,>=3.8.3->langchain_community) (1.4.0)\n",
      "Requirement already satisfied: multidict<7.0,>=4.5 in c:\\users\\sj\\anaconda3\\envs\\study\\lib\\site-packages (from aiohttp<4.0.0,>=3.8.3->langchain_community) (6.0.4)\n",
      "Requirement already satisfied: yarl<2.0,>=1.0 in c:\\users\\sj\\anaconda3\\envs\\study\\lib\\site-packages (from aiohttp<4.0.0,>=3.8.3->langchain_community) (1.11.0)\n",
      "Requirement already satisfied: marshmallow<4.0.0,>=3.18.0 in c:\\users\\sj\\anaconda3\\envs\\study\\lib\\site-packages (from dataclasses-json<0.7,>=0.5.7->langchain_community) (3.26.0)\n",
      "Requirement already satisfied: typing-inspect<1,>=0.4.0 in c:\\users\\sj\\anaconda3\\envs\\study\\lib\\site-packages (from dataclasses-json<0.7,>=0.5.7->langchain_community) (0.9.0)\n",
      "Requirement already satisfied: langchain-text-splitters<0.4.0,>=0.3.3 in c:\\users\\sj\\anaconda3\\envs\\study\\lib\\site-packages (from langchain<0.4.0,>=0.3.16->langchain_community) (0.3.5)\n",
      "Requirement already satisfied: pydantic<3.0.0,>=2.7.4 in c:\\users\\sj\\anaconda3\\envs\\study\\lib\\site-packages (from langchain<0.4.0,>=0.3.16->langchain_community) (2.8.2)\n",
      "Requirement already satisfied: jsonpatch<2.0,>=1.33 in c:\\users\\sj\\anaconda3\\envs\\study\\lib\\site-packages (from langchain-core<0.4.0,>=0.3.32->langchain_community) (1.33)\n",
      "Requirement already satisfied: packaging<25,>=23.2 in c:\\users\\sj\\anaconda3\\envs\\study\\lib\\site-packages (from langchain-core<0.4.0,>=0.3.32->langchain_community) (24.1)\n",
      "Requirement already satisfied: typing-extensions>=4.7 in c:\\users\\sj\\anaconda3\\envs\\study\\lib\\site-packages (from langchain-core<0.4.0,>=0.3.32->langchain_community) (4.11.0)\n",
      "Requirement already satisfied: httpx<1,>=0.23.0 in c:\\users\\sj\\anaconda3\\envs\\study\\lib\\site-packages (from langsmith<0.4,>=0.1.125->langchain_community) (0.27.0)\n",
      "Requirement already satisfied: orjson<4.0.0,>=3.9.14 in c:\\users\\sj\\anaconda3\\envs\\study\\lib\\site-packages (from langsmith<0.4,>=0.1.125->langchain_community) (3.10.15)\n",
      "Requirement already satisfied: requests-toolbelt<2.0.0,>=1.0.0 in c:\\users\\sj\\anaconda3\\envs\\study\\lib\\site-packages (from langsmith<0.4,>=0.1.125->langchain_community) (1.0.0)\n",
      "Requirement already satisfied: zstandard<0.24.0,>=0.23.0 in c:\\users\\sj\\anaconda3\\envs\\study\\lib\\site-packages (from langsmith<0.4,>=0.1.125->langchain_community) (0.23.0)\n",
      "Requirement already satisfied: python-dotenv>=0.21.0 in c:\\users\\sj\\anaconda3\\envs\\study\\lib\\site-packages (from pydantic-settings<3.0.0,>=2.4.0->langchain_community) (0.21.0)\n",
      "Requirement already satisfied: charset-normalizer<4,>=2 in c:\\users\\sj\\anaconda3\\envs\\study\\lib\\site-packages (from requests<3,>=2->langchain_community) (3.3.2)\n",
      "Requirement already satisfied: idna<4,>=2.5 in c:\\users\\sj\\anaconda3\\envs\\study\\lib\\site-packages (from requests<3,>=2->langchain_community) (3.7)\n",
      "Requirement already satisfied: urllib3<3,>=1.21.1 in c:\\users\\sj\\anaconda3\\envs\\study\\lib\\site-packages (from requests<3,>=2->langchain_community) (2.2.3)\n",
      "Requirement already satisfied: certifi>=2017.4.17 in c:\\users\\sj\\anaconda3\\envs\\study\\lib\\site-packages (from requests<3,>=2->langchain_community) (2024.8.30)\n",
      "Requirement already satisfied: greenlet!=0.4.17 in c:\\users\\sj\\anaconda3\\envs\\study\\lib\\site-packages (from SQLAlchemy<3,>=1.4->langchain_community) (3.0.1)\n",
      "Requirement already satisfied: anyio in c:\\users\\sj\\anaconda3\\envs\\study\\lib\\site-packages (from httpx<1,>=0.23.0->langsmith<0.4,>=0.1.125->langchain_community) (4.2.0)\n",
      "Requirement already satisfied: httpcore==1.* in c:\\users\\sj\\anaconda3\\envs\\study\\lib\\site-packages (from httpx<1,>=0.23.0->langsmith<0.4,>=0.1.125->langchain_community) (1.0.2)\n",
      "Requirement already satisfied: sniffio in c:\\users\\sj\\anaconda3\\envs\\study\\lib\\site-packages (from httpx<1,>=0.23.0->langsmith<0.4,>=0.1.125->langchain_community) (1.3.0)\n",
      "Requirement already satisfied: h11<0.15,>=0.13 in c:\\users\\sj\\anaconda3\\envs\\study\\lib\\site-packages (from httpcore==1.*->httpx<1,>=0.23.0->langsmith<0.4,>=0.1.125->langchain_community) (0.14.0)\n",
      "Requirement already satisfied: jsonpointer>=1.9 in c:\\users\\sj\\anaconda3\\envs\\study\\lib\\site-packages (from jsonpatch<2.0,>=1.33->langchain-core<0.4.0,>=0.3.32->langchain_community) (2.1)\n",
      "Requirement already satisfied: annotated-types>=0.4.0 in c:\\users\\sj\\anaconda3\\envs\\study\\lib\\site-packages (from pydantic<3.0.0,>=2.7.4->langchain<0.4.0,>=0.3.16->langchain_community) (0.6.0)\n",
      "Requirement already satisfied: pydantic-core==2.20.1 in c:\\users\\sj\\anaconda3\\envs\\study\\lib\\site-packages (from pydantic<3.0.0,>=2.7.4->langchain<0.4.0,>=0.3.16->langchain_community) (2.20.1)\n",
      "Requirement already satisfied: mypy-extensions>=0.3.0 in c:\\users\\sj\\anaconda3\\envs\\study\\lib\\site-packages (from typing-inspect<1,>=0.4.0->dataclasses-json<0.7,>=0.5.7->langchain_community) (1.0.0)\n"
     ]
    }
   ],
   "source": [
    "#Langchian 생태계를 확장하고 기본 기능을 보완하는 다양한 도구와의 통합을 제공\n",
    "!pip install langchain_community "
   ]
  },
  {
   "cell_type": "markdown",
   "id": "c3c16b9f-9ab2-432f-ada3-6266b6878b3b",
   "metadata": {},
   "source": [
    "### 모델 로드 및 질의"
   ]
  },
  {
   "cell_type": "code",
   "execution_count": 27,
   "id": "43530cbf-c181-48f1-a7fc-bcc147bc3098",
   "metadata": {},
   "outputs": [],
   "source": [
    "#ChatOpenAI : Langchain과 통합되어있는 openAI의 대화용 LLM을 불러오는 함수\n",
    "from langchain_openai import ChatOpenAI\n",
    "from getpass import getpass"
   ]
  },
  {
   "cell_type": "code",
   "execution_count": 12,
   "id": "86c885a0-275b-434e-824b-f774662e123b",
   "metadata": {},
   "outputs": [
    {
     "name": "stdin",
     "output_type": "stream",
     "text": [
      "OpenAI API Key: ········\n"
     ]
    }
   ],
   "source": [
    "MY_API_KEY = getpass('OpenAI API Key:')"
   ]
  },
  {
   "cell_type": "code",
   "execution_count": 13,
   "id": "a8fbfcf0-eb77-43e1-b4fb-c3b65444c2ff",
   "metadata": {},
   "outputs": [
    {
     "data": {
      "text/plain": [
       "ChatOpenAI(client=<openai.resources.chat.completions.Completions object at 0x0000026F6711FB60>, async_client=<openai.resources.chat.completions.AsyncCompletions object at 0x0000026F6714D400>, root_client=<openai.OpenAI object at 0x0000026F66C5D190>, root_async_client=<openai.AsyncOpenAI object at 0x0000026F6711FB90>, model_kwargs={}, openai_api_key=SecretStr('**********'))"
      ]
     },
     "execution_count": 13,
     "metadata": {},
     "output_type": "execute_result"
    }
   ],
   "source": [
    "chat_model= ChatOpenAI(model = 'gpt-3.5-turbo',\n",
    "                       api_key= MY_API_KEY\n",
    "                      )\n",
    "chat_model"
   ]
  },
  {
   "cell_type": "code",
   "execution_count": 14,
   "id": "ae063695-2826-47c7-a56a-8c9670039f52",
   "metadata": {},
   "outputs": [
    {
     "data": {
      "text/plain": [
       "langchain_openai.chat_models.base.ChatOpenAI"
      ]
     },
     "execution_count": 14,
     "metadata": {},
     "output_type": "execute_result"
    }
   ],
   "source": [
    "type(chat_model)"
   ]
  },
  {
   "cell_type": "code",
   "execution_count": 17,
   "id": "0d12d55a-f753-495d-aea4-d647976eb990",
   "metadata": {},
   "outputs": [
    {
     "data": {
      "text/plain": [
       "AIMessage(content='등산, 스카이다이빙, 스카이런닝, 서핑, 랄리경주, 스노우보드 등의 스포츠는 도전적이고 흥미로운 활동입니다.', additional_kwargs={'refusal': None}, response_metadata={'token_usage': {'completion_tokens': 71, 'prompt_tokens': 20, 'total_tokens': 91, 'completion_tokens_details': {'accepted_prediction_tokens': 0, 'audio_tokens': 0, 'reasoning_tokens': 0, 'rejected_prediction_tokens': 0}, 'prompt_tokens_details': {'audio_tokens': 0, 'cached_tokens': 0}}, 'model_name': 'gpt-3.5-turbo-0125', 'system_fingerprint': None, 'finish_reason': 'stop', 'logprobs': None}, id='run-dc5cc14e-8d28-4913-baa8-b3f481c6c751-0', usage_metadata={'input_tokens': 20, 'output_tokens': 71, 'total_tokens': 91, 'input_token_details': {'audio': 0, 'cache_read': 0}, 'output_token_details': {'audio': 0, 'reasoning': 0}})"
      ]
     },
     "execution_count": 17,
     "metadata": {},
     "output_type": "execute_result"
    }
   ],
   "source": [
    "question = '도전적인 스포츠는?'\n",
    "\n",
    "#invoke:langchain에서 언어 모델의 응답(추론) 결과를 반환해주는 함수\n",
    "answer= chat_model.invoke(question)\n",
    "answer"
   ]
  },
  {
   "cell_type": "code",
   "execution_count": 19,
   "id": "b1c1620b-4a1e-4357-af58-850b19bab920",
   "metadata": {},
   "outputs": [
    {
     "name": "stdout",
     "output_type": "stream",
     "text": [
      "질의: 도전적인 스포츠는?\n",
      "응답: 등산, 스카이다이빙, 스카이런닝, 서핑, 랄리경주, 스노우보드 등의 스포츠는 도전적이고 흥미로운 활동입니다.\n"
     ]
    }
   ],
   "source": [
    "print('질의:', question)\n",
    "print('응답:', answer.content)"
   ]
  },
  {
   "cell_type": "markdown",
   "id": "444115ca-8bf4-417d-8797-bbe9d12d9601",
   "metadata": {},
   "source": [
    "## 프롬프트 탬플릿 활용\n",
    "- 규격화된 탬플릿을 활용하여 좀 더 체계적인 구성으로 질의가 가능\n",
    "- 모듈화, 코드 재사용성, 일관성(버전관리 및 테스트) 향상 "
   ]
  },
  {
   "cell_type": "code",
   "execution_count": 29,
   "id": "c58c1ccf-a955-4765-94bb-227b6ccab73d",
   "metadata": {},
   "outputs": [],
   "source": [
    "from langchain.prompts import PromptTemplate"
   ]
  },
  {
   "cell_type": "code",
   "execution_count": 32,
   "id": "984f7586-394d-422f-9004-ff1f1d7ab335",
   "metadata": {},
   "outputs": [
    {
     "name": "stdout",
     "output_type": "stream",
     "text": [
      "직업중에서 도전적인 직업은/는?\n"
     ]
    }
   ],
   "source": [
    "#from_template: 문자열 포매팅을 기본적으로 활용하여 탬플릿을 설정해주는 함수\n",
    "pt= PromptTemplate.from_template('{context}중에서 {topic}은/는?')\n",
    "\n",
    "prompt = pt.format(context='직업',\n",
    "                   topic='도전적인 직업'\n",
    "                  )\n",
    "\n",
    "print(prompt)"
   ]
  },
  {
   "cell_type": "code",
   "execution_count": 38,
   "id": "15d2138f-09b2-413b-a7ac-1b31df75181e",
   "metadata": {},
   "outputs": [],
   "source": [
    "# PromptTemplat을 활용하여 질의에 맞는 응답을 생성하고 출력하는 사용자 정의 함수 선언\n",
    "\n",
    "\n",
    "def get_answer(context, topic):\n",
    "    pt= PromptTemplate.from_template('{context}중에서 {topic}은/는?')\n",
    "    prompt = pt.format(context= context,\n",
    "                   topic=topic\n",
    "                  )\n",
    "    #위에서 작성한 탬플릿으로 모델에 질의\n",
    "    answer= chat_model.invoke(prompt)\n",
    "    return {'질의':prompt, '응답': answer.content.strip()}\n",
    "\n"
   ]
  },
  {
   "cell_type": "code",
   "execution_count": 42,
   "id": "6f1f3371-f994-4045-80c6-0a94d0a219e4",
   "metadata": {},
   "outputs": [
    {
     "name": "stdout",
     "output_type": "stream",
     "text": [
      "{'질의': '직업중에서 육체적으로 힘든 직업은/는?', '응답': '1. 건설 노동자\\n2. 해병대 솔저\\n3. 농부\\n4. 석유 시추기\\n5. 철강작업자\\n6. 어부\\n7. 화물 운송 업무\\n8. 석재 공사자\\n9. 재활용 업무\\n10. 병변 한의사'}\n"
     ]
    }
   ],
   "source": [
    "print(get_answer('직업', '육체적으로 힘든 직업'))"
   ]
  },
  {
   "cell_type": "code",
   "execution_count": 41,
   "id": "6b7470f0-d245-4ccd-9d5c-767a454eddc9",
   "metadata": {},
   "outputs": [
    {
     "name": "stdout",
     "output_type": "stream",
     "text": [
      "{'질의': '직업중에서 정신적으로 힘든 직업은/는?', '응답': '의사, 간호사, 소방관, 경찰관, 군인, 사회복지사 등이 정신적으로 힘든 직업으로 여겨질 수 있습니다. 이들 직업에서는 업무의 복잡성, 책임의 크기, 고도의 스트레스 상황에서의 대처 등이 정신적으로 많은 힘을 요구하기 때문입니다.'}\n"
     ]
    }
   ],
   "source": [
    "print(get_answer('직업', '정신적으로 힘든 직업'))"
   ]
  },
  {
   "cell_type": "code",
   "execution_count": 40,
   "id": "08b0b094-68d2-48cc-9d4d-c3b9de822227",
   "metadata": {},
   "outputs": [
    {
     "name": "stdout",
     "output_type": "stream",
     "text": [
      "{'질의': '직업중에서 연봉이 가장 높은 직업은/는?', '응답': '의사, 변호사, CEO, 투자은행원, 소프트웨어 엔지니어 등 다양한 직업 중에서 연봉이 가장 높은 직업은 CEO (Chief Executive Officer, 최고경영자)입니다. CEO는 기업의 최고경영자로서 회사의 전반적인 경영을 총괄하고 이끄는 역할을 맡고 있으며, 이에 따라 높은 연봉을 받는 경우가 많습니다. 그러나 실제로 연봉이 가장 높은 직업은 다양한 요인에 따라 다를 수 있으므로 일반화하기는 어렵습니다.'}\n"
     ]
    }
   ],
   "source": [
    "print(get_answer('직업', '연봉이 가장 높은 직업'))"
   ]
  },
  {
   "cell_type": "code",
   "execution_count": 39,
   "id": "9969f240-fa1d-4df8-b3e7-d5427e8306ff",
   "metadata": {},
   "outputs": [
    {
     "name": "stdout",
     "output_type": "stream",
     "text": [
      "{'질의': '직업중에서 만족도가 가장 높은 직업은/는?', '응답': '개인마다 만족도가 높은 직업은 다를 수 있지만, 일반적으로는 자신의 관심과 능력에 맞는 직업을 수행할 때 만족도가 높을 것입니다. 또한, 자신의 노력과 열정이 직접적인 성과로 나타나는 직업이나 타인을 도와주는 일을 하는 직업 등이 만족도가 높을 수 있습니다. 결국, 가장 만족도가 높은 직업은 자기 자신이 얼마나 직업에 충실하고 행복하게 일을 하는지, 타인에게 얼마나 도움을 주는지에 따라 달라질 것입니다.'}\n"
     ]
    }
   ],
   "source": [
    "print(get_answer('직업', '만족도가 가장 높은 직업'))"
   ]
  },
  {
   "cell_type": "code",
   "execution_count": 45,
   "id": "172c0b50-f1ff-4ad9-bc0a-842b0af4f060",
   "metadata": {},
   "outputs": [
    {
     "name": "stdout",
     "output_type": "stream",
     "text": [
      "질의: 방금 너가 응답한 직업의 종류들을 다시 모두 알려줄래?\n",
      "응답: 네, 방금 언급된 직업들은 아래와 같습니다:\n",
      "1. 프로그래머\n",
      "2. 디자이너\n",
      "3. 의사\n",
      "4. 변호사\n",
      "5. 선생님\n",
      "6. 회계사\n",
      "7. 간호사\n",
      "8. 기자\n",
      "9. 건축가\n",
      "10. 여행사\n",
      "\n",
      "더 궁금한 것이 있으시면 언제든지 물어보세요!\n"
     ]
    }
   ],
   "source": [
    "question = '방금 너가 응답한 직업의 종류들을 다시 모두 알려줄래?'\n",
    "\n",
    "answer= chat_model.invoke(question)\n",
    "\n",
    "print('질의:', question)\n",
    "print('응답:', answer.content)"
   ]
  },
  {
   "cell_type": "code",
   "execution_count": null,
   "id": "eee772c5-71fc-43eb-a4ec-877625b4c2fc",
   "metadata": {},
   "outputs": [],
   "source": []
  }
 ],
 "metadata": {
  "kernelspec": {
   "display_name": "Python [conda env:study] *",
   "language": "python",
   "name": "conda-env-study-py"
  },
  "language_info": {
   "codemirror_mode": {
    "name": "ipython",
    "version": 3
   },
   "file_extension": ".py",
   "mimetype": "text/x-python",
   "name": "python",
   "nbconvert_exporter": "python",
   "pygments_lexer": "ipython3",
   "version": "3.12.7"
  }
 },
 "nbformat": 4,
 "nbformat_minor": 5
}
