{
 "cells": [
  {
   "cell_type": "markdown",
   "id": "0e08d13e-d138-4172-8787-e4a5420dbbc7",
   "metadata": {},
   "source": [
    "## 야놀자 홈페이지의 호텔 리뷰를 요약하는 모델을 만들고 성능을 향상시킨 후 평가해보자!"
   ]
  },
  {
   "cell_type": "markdown",
   "id": "07b6f346-b4a4-4b81-890d-486f76436252",
   "metadata": {},
   "source": [
    "### API키 및 기본 설정"
   ]
  },
  {
   "cell_type": "code",
   "execution_count": 1,
   "id": "6917b202-748f-4c20-8fab-3843de2423e8",
   "metadata": {},
   "outputs": [],
   "source": [
    "import os\n",
    "import json\n",
    "import numpy as np\n",
    "import seaborn as sns\n",
    "from tqdm import tqdm\n",
    "from openai import OpenAI\n",
    "from getpass import getpass"
   ]
  },
  {
   "cell_type": "code",
   "execution_count": 2,
   "id": "1355217c-1e56-4b5c-9fdf-cd76b9e59ba1",
   "metadata": {},
   "outputs": [
    {
     "name": "stdin",
     "output_type": "stream",
     "text": [
      "OpenAI API Key: ········\n"
     ]
    }
   ],
   "source": [
    "MY_API_KEY = getpass(\"OpenAI API Key:\")"
   ]
  },
  {
   "cell_type": "code",
   "execution_count": 3,
   "id": "418cdc97-0e95-473a-a9fe-ed221144cf57",
   "metadata": {},
   "outputs": [],
   "source": [
    "client = OpenAI(api_key=MY_API_KEY)"
   ]
  },
  {
   "cell_type": "markdown",
   "id": "16305ace-d018-4f97-ac4f-d0752026dac2",
   "metadata": {},
   "source": [
    "### 데이터 수집\n",
    "- 야놀자 홈페이지의 호텔/리조트 탭에서 '신라스테이 역삼' 호텔에 대한 리뷰를 최근순으로 20 스크롤정도 크롤링한 데이터 활용"
   ]
  },
  {
   "cell_type": "markdown",
   "id": "4943b325-13bf-4045-9f0d-5aa433d4c64c",
   "metadata": {},
   "source": [
    "### 데이터 전처리\n",
    "- JSON 형태에서 리뷰를 구분할 수 있는 문자열로 만들기"
   ]
  },
  {
   "cell_type": "code",
   "execution_count": 10,
   "id": "08905203-f57e-4c72-b73f-49c455d7fa82",
   "metadata": {
    "scrolled": true
   },
   "outputs": [
    {
     "name": "stdout",
     "output_type": "stream",
     "text": [
      "420\n"
     ]
    },
    {
     "data": {
      "text/plain": [
       "[{'review': '고민하다가 조식포함으로 결정했는데 좋은 선택이었습니다. 같이간 이들도 만족스러워했어요. 조식도 좋았고 시설, 서비스, 청결도 나무랄데가 없었네요.',\n",
       "  'stars': 5,\n",
       "  'date': '2024.06.03'},\n",
       " {'review': '커피쿠폰도 받았구 깨끗하고 교회뷰도 이뻤어요!!!', 'stars': 5, 'date': '2022.11.20'},\n",
       " {'review': '잊을수없는 추억을 남겼어요 너무너무 좋았어요\\r\\n여자친구 몰래 프로포즈를 준비하게되었는데\\r\\n프론트 체크인 도와주셨던 직원분께 양해를 구하고\\r\\n선물을 미리 맡겨주셨고 프로포즈셋팅까지 완벽하게 진행될 수 있도록 정말 많은 도움 주셨어요\\r\\n바쁘신 와중에도 제가 계획한대로 체크인도 도와주셨고 딜라이브 ott까지 챙겨주시는 섬세함에 감동받았습니다 나중에 기념일때 다시한번 꼭 방문하겠습니다 성함을 기억했어야 하는데 젊은 남직원분\\r\\n다음번 방문때 감사인사 드리겠습니다\\r\\n훌륭한 룸컨디션도 칭찬합니다',\n",
       "  'stars': 5,\n",
       "  'date': '2022.10.17'},\n",
       " {'review': '조식이 맛있어요!!다양하게 종류도 많구요 캠페인중이여서 할인도 해서 먹었는데 맛있습니다\\n직원분들 친절하고 대응도 잘해주세요',\n",
       "  'stars': 5,\n",
       "  'date': '1일 전'},\n",
       " {'review': '가족들이 간다고 해서 진짜 폭풍 검색해서 알아봐드렸는데 좋아하셔서 좋았습니다 :) 신라스테이는 어딜 가도 좋은것 같아요',\n",
       "  'stars': 5,\n",
       "  'date': '3일 전'},\n",
       " {'review': '프론트 직원분들이 친절하셔서 좋아요', 'stars': 5, 'date': '3일 전'},\n",
       " {'review': '아주좋아요오오옹오ㅗ옹', 'stars': 5, 'date': '2024.10.08'},\n",
       " {'review': '청결하고 좋습니다 특히 조식이 맛있었어요', 'stars': 5, 'date': '2024.10.08'},\n",
       " {'review': '깨끗하고 친잘하고 교통편도 편리해요\\n그래서 출장중엔 종종 이용합니다',\n",
       "  'stars': 5,\n",
       "  'date': '2024.10.08'},\n",
       " {'review': '잘자고 가요오오 ~~', 'stars': 4, 'date': '2024.10.07'}]"
      ]
     },
     "execution_count": 10,
     "metadata": {},
     "output_type": "execute_result"
    }
   ],
   "source": [
    "with open('data/ya_review_sinla.json', 'r', encoding='utf-8') as f :\n",
    "    # json.load : JSON 데이터 불러오기 \n",
    "    review_list = json.load(f)\n",
    "\n",
    "print(len(review_list))\n",
    "review_list[:10]"
   ]
  },
  {
   "cell_type": "markdown",
   "id": "62a03156-69da-4c02-91f0-88ff74a280ad",
   "metadata": {},
   "source": [
    "#### 야놀자 리뷰 요약은 GPT-4-turbo 모델로 진행했고, 높은 평점은 5점으로 정의"
   ]
  },
  {
   "cell_type": "code",
   "execution_count": 12,
   "id": "c3a79e03-89d5-41a5-8ed1-18f66eeab703",
   "metadata": {},
   "outputs": [
    {
     "data": {
      "text/plain": [
       "4.754761904761905"
      ]
     },
     "execution_count": 12,
     "metadata": {},
     "output_type": "execute_result"
    }
   ],
   "source": [
    "# 평점 평균 및 분포 확인\n",
    "stars_list = [i['stars'] for i in review_list]\n",
    "np.mean(stars_list)"
   ]
  },
  {
   "cell_type": "code",
   "execution_count": 14,
   "id": "466240ae-0bf9-4553-b0eb-977b5921335f",
   "metadata": {},
   "outputs": [
    {
     "data": {
      "image/png": "[encoded data removed]",
      "text/plain": [
       "<Figure size 640x480 with 1 Axes>"
      ]
     },
     "metadata": {},
     "output_type": "display_data"
    }
   ],
   "source": [
    "# 점수별 데이터 개수\n",
    "sns.countplot(x=stars_list);"
   ]
  },
  {
   "cell_type": "code",
   "execution_count": 15,
   "id": "0551083a-f796-4fc5-ab33-8ef48d4a072f",
   "metadata": {},
   "outputs": [
    {
     "name": "stdout",
     "output_type": "stream",
     "text": [
      "['[REVIEW_START]고민하다가 조식포함으로 결정했는데 좋은 선택이었습니다. 같이간 이들도 만족스러워했어요. 조식도 좋았고 시설, 서비스, 청결도 나무랄데가 없었네요.[REVIEW_END]', '[REVIEW_START]커피쿠폰도 받았구 깨끗하고 교회뷰도 이뻤어요!!![REVIEW_END]', '[REVIEW_START]잊을수없는 추억을 남겼어요 너무너무 좋았어요\\r\\n여자친구 몰래 프로포즈를 준비하게되었는데\\r\\n프론트 체크인 도와주셨던 직원분께 양해를 구하고\\r\\n선물을 미리 맡겨주셨고 프로포즈셋팅까지 완벽하게 진행될 수 있도록 정말 많은 도움 주셨어요\\r\\n바쁘신 와중에도 제가 계획한대로 체크인도 도와주셨고 딜라이브 ott까지 챙겨주시는 섬세함에 감동받았습니다 나중에 기념일때 다시한번 꼭 방문하겠습니다 성함을 기억했어야 하는데 젊은 남직원분\\r\\n다음번 방문때 감사인사 드리겠습니다\\r\\n훌륭한 룸컨디션도 칭찬합니다[REVIEW_END]']\n"
     ]
    }
   ],
   "source": [
    "reviews_high, reviews_low = [], []\n",
    "\n",
    "for i in review_list :\n",
    "    if i['stars'] == 5 :\n",
    "        # LLM이 더 잘 질의를 이해할 수 있도록 리뷰의 시작과 끝을 구분해서 기호로 넣어줌\n",
    "        reviews_high.append('[REVIEW_START]' + i['review'] + '[REVIEW_END]')\n",
    "    else : \n",
    "        reviews_low.append('[REVIEW_START]' + i['review'] + '[REVIEW_END]')\n",
    "\n",
    "print(reviews_high[:3])"
   ]
  },
  {
   "cell_type": "code",
   "execution_count": 16,
   "id": "f0cbf8d2-aba9-4b48-bff6-85982cdd119e",
   "metadata": {},
   "outputs": [
    {
     "name": "stdout",
     "output_type": "stream",
     "text": [
      "[REVIEW_START]고민하다가 조식포함으로 결정했는데 좋은 선택이었습니다. 같이간 이들도 만족스러워했어요. 조식도 좋았고 시설, 서비스, 청결도 나무랄데가 없었네요.[REVIEW_END]\n",
      "[REVIEW_START]커피쿠폰도 받았구 깨끗하고 교회뷰도 이뻤어요!!![REVIEW_END]\n",
      "[REVIEW_START]잊을수없는 추억을 남겼어요 너무너무 좋았어요\n",
      "여자친구 몰래 프로포즈를 준비하게되었는데\n",
      "프론트 체크인 도와주셨던 직원분께 양해를 구하고\n",
      "선물을 미리 맡겨주셨고 프로포즈셋팅까지 완벽하게 진행될 수 있도록 정말 많은 도움 주셨어요\n",
      "바쁘신 와중에도 제가 계획한대로 체크인도 도와주셨고 딜라이브 ott까지 챙겨주시는 섬세함에 감동받았습니다 나중에 기념일때 다시한번 꼭 방문하겠습니다 성함을 기억했어야 하는데 젊은 남직원분\n",
      "다음번 방문때 감사인사 드리겠습니다\n",
      "훌륭한 룸컨디션도 칭찬합니다[REVIEW_END]\n",
      "[REVIEW_START]조식이 맛있어요!!다양하게 종류도 많구요 캠페\n"
     ]
    }
   ],
   "source": [
    "# 프롬프트에 문자열로 넣어줘야하기 때문에 리스트의 리뷰들을 하나의 문자열로 합쳐기기\n",
    "review_high_text = '\\n'.join(reviews_high)\n",
    "review_low_text = '\\n'.join(reviews_low)\n",
    "\n",
    "print(review_high_text[:500])"
   ]
  },
  {
   "cell_type": "markdown",
   "id": "308c3abd-cdda-44ba-aef7-a471b4d683a5",
   "metadata": {},
   "source": [
    "#### 각 전처리 단계를 하나의 함수로 작성\n",
    "- 야놀자 홈페이지의 후기 요약 기간이 최근 6개월 이므로 동일한 조건으로 데이터를 가공"
   ]
  },
  {
   "cell_type": "code",
   "execution_count": 17,
   "id": "66d2c2a2-b3b2-41d5-bc05-1090decc8293",
   "metadata": {},
   "outputs": [],
   "source": [
    "# datetime : 날짜와 시간을 다루는 모듈\n",
    "import datetime\n",
    "# dateutil : 다양한 형식의 날짜와 시간 문자열을 파싱하고 시간대 정보를 처리하는 모듈\n",
    " # parser : 문자열에서 날짜와 시간 정보를 자동으로 인식하고 추출하는 함수\n",
    "from dateutil import parser"
   ]
  },
  {
   "cell_type": "code",
   "execution_count": 19,
   "id": "4e142336-1181-4e5c-b27a-6afb808eb370",
   "metadata": {},
   "outputs": [
    {
     "data": {
      "text/plain": [
       "datetime.datetime(2024, 8, 21, 11, 50, 48, 5950)"
      ]
     },
     "execution_count": 19,
     "metadata": {},
     "output_type": "execute_result"
    }
   ],
   "source": [
    "# 6개월 전 날짜 및 일시 구하기\n",
    "# datetime.now() : 현재 년월일시분초\n",
    "# timedelta() : 두 날짜 또는 시간간의 차이를 나타내는 함수\n",
    " # 매개변수는 weeks, days, hours, minutes, seconds가 있음\n",
    "datetime.datetime.now() - datetime.timedelta(weeks=24)"
   ]
  },
  {
   "cell_type": "code",
   "execution_count": 22,
   "id": "e30cb4f5-52b2-4446-95a1-b0b763328616",
   "metadata": {},
   "outputs": [],
   "source": [
    "# 리뷰 전처리 함수\n",
    "def preprocessing_reviews(path='data/ya_review_sinla.json') :\n",
    "    with open(path, 'r', encoding='utf-8') as f :\n",
    "        review_list = json.load(f)\n",
    "\n",
    "    reviews_high, reviews_low = [], []\n",
    "\n",
    "    # 현재 날짜(년월일시분초)\n",
    "    current_date = datetime.datetime.now()\n",
    "\n",
    "    # 6개월 전 날짜\n",
    "    date_boundary = current_date - datetime.timedelta(weeks=24)\n",
    "\n",
    "    for i in review_list : \n",
    "        # 리뷰의 날짜 문자열을 변수에 저장\n",
    "        review_date_str = i['date']\n",
    "        try :\n",
    "            # parse : 문자열이 들어오면 코드 형태(날짜타입)으로 변환시켜주는 함수\n",
    "            review_date = parser.parse(review_date_str)\n",
    "            \n",
    "        # 년월일로 표시되지 않은 값들을 처리\n",
    "        except (ValueError, TypeError) :\n",
    "            # ~일 전 같은 텍스트는 어차피 7일을 넘어가지 않으므로 6개월 내에 포함되는 리뷰가 됨(오늘날짜로 지정)\n",
    "            review_date = current_date\n",
    "\n",
    "        # 해당 리뷰의 날짜가 6개월전 날짜보다 작다면(이전이라면!) 그냥 넘어감\n",
    "        if review_date < date_boundary :\n",
    "            continue\n",
    "\n",
    "        # 별점이 5점인 경우와 아닌 경우 판단(우리는 5점인 경우만 사용할 예정!)\n",
    "        if i['stars'] == 5 :\n",
    "            reviews_high.append('[REVIEW_START]' + i['review'] + '[REVIEW_END]')\n",
    "        else : \n",
    "            reviews_low.append('[REVIEW_START]' + i['review'] + '[REVIEW_END]')\n",
    "\n",
    "    # 리스트에 있는 리뷰들을 하나의 문자열로 합쳐주기\n",
    "    review_high_text = '\\n'.join(reviews_high)\n",
    "    review_low_text = '\\n'.join(reviews_low)\n",
    "\n",
    "    # return은 두 가지로 반환하지만 우리는 review_high_text만 사용 예정!\n",
    "    return review_high_text, review_low_text"
   ]
  },
  {
   "cell_type": "markdown",
   "id": "c24002be-c04e-4c2b-b418-a85792d232bc",
   "metadata": {},
   "source": [
    "### 리뷰 문장 요약을 위한 Baseline 모델 개발\n",
    "- base모델(gpt-3.5-turbo)이 야놀자 후기 요약 문장(gpt-4-turbo 모델 사용)에 근접하게 성능을 향상시켜 보는 것이 우리의 목표!!"
   ]
  },
  {
   "cell_type": "code",
   "execution_count": 23,
   "id": "66643a7a-fea4-4533-ae05-c4d1b8481566",
   "metadata": {},
   "outputs": [],
   "source": [
    "# _ 는 해당 위치의 반환값을 사용하지 않겠다는 뜻\n",
    "reviews, _ = preprocessing_reviews()"
   ]
  },
  {
   "cell_type": "code",
   "execution_count": 25,
   "id": "73356aca-f9b6-429d-b5d9-270d284b6b1b",
   "metadata": {},
   "outputs": [],
   "source": [
    "PROMPT_BASELINE = \"아래 숙소 리뷰에 대해 5문장 내로 요약해줘: \""
   ]
  },
  {
   "cell_type": "code",
   "execution_count": 26,
   "id": "a8563c74-ade6-4b22-942e-5216116ed683",
   "metadata": {},
   "outputs": [],
   "source": [
    "# LLM을 호출하여 리뷰들에 대한 요약을 진행하는 사용자 정의 함수 선언\n",
    "def summarize(reviews, prompt, temperature=0, model='gpt-3.5-turbo') :\n",
    "    prompt = prompt + '\\n\\n' + reviews\n",
    "\n",
    "    completion = client.chat.completions.create(model = model,\n",
    "                                                messages = [{'role':'user', 'content':prompt}],\n",
    "                                                temperature = temperature\n",
    "                                               )\n",
    "    return completion"
   ]
  },
  {
   "cell_type": "markdown",
   "id": "be227fe3-4680-4a7f-82f0-0dc616ec8308",
   "metadata": {},
   "source": [
    "#### 모델별 요약 결과"
   ]
  },
  {
   "cell_type": "code",
   "execution_count": 27,
   "id": "1f3d9637-e57d-48b0-ab1b-8222189d97c5",
   "metadata": {},
   "outputs": [
    {
     "name": "stdout",
     "output_type": "stream",
     "text": [
      "다양하고 맛있는 조식과 할인 혜택이 좋았고, 직원들의 친절한 대응이 인상적이었습니다. 위치와 시설이 좋아서 가족들이 만족해했고, 깨끗하고 친절한 서비스로 편안한 휴식을 즐길 수 있었습니다.\n"
     ]
    }
   ],
   "source": [
    "# gpt-3.5-turbo\n",
    "print(summarize(reviews, PROMPT_BASELINE, model='gpt-3.5-turbo').choices[0].message.content)"
   ]
  },
  {
   "cell_type": "code",
   "execution_count": 28,
   "id": "3bcdb74a-6987-44d3-b928-cb45da33d5d9",
   "metadata": {},
   "outputs": [
    {
     "data": {
      "text/plain": [
       "'청결하고 쾌적한 환경을 제공하며, 친절한 직원 서비스가 돋보입니다. \\n조식은 다양한 메뉴와 맛으로 손님들에게 호평을 받으며, 주차 시설도 편리하게 마련되어 있습니다. \\n객실은 아늑하고 고급스러운 분위기를 연출하며, 일부 객실에서는 도로 소음이 발생할 수 있습니다. \\n접근성과 주변 식당, 카페가 다양해 이용객의 편의성이 높습니다. 전반적으로 가성비가 우수하고, 재방문 의사가 있는 곳입니다.'"
      ]
     },
     "execution_count": 28,
     "metadata": {},
     "output_type": "execute_result"
    }
   ],
   "source": [
    "# gpt-4-turbo(야놀자 홈페이지의 요약 결과)\n",
    "summary_gpt4_turbo = \"\"\"청결하고 쾌적한 환경을 제공하며, 친절한 직원 서비스가 돋보입니다. \n",
    "조식은 다양한 메뉴와 맛으로 손님들에게 호평을 받으며, 주차 시설도 편리하게 마련되어 있습니다. \n",
    "객실은 아늑하고 고급스러운 분위기를 연출하며, 일부 객실에서는 도로 소음이 발생할 수 있습니다. \n",
    "접근성과 주변 식당, 카페가 다양해 이용객의 편의성이 높습니다. 전반적으로 가성비가 우수하고, 재방문 의사가 있는 곳입니다.\"\"\"\n",
    "summary_gpt4_turbo"
   ]
  },
  {
   "cell_type": "markdown",
   "id": "de390fb2-b8d3-4495-9ad7-5b6297872067",
   "metadata": {},
   "source": [
    "### 모델 평가 함수 선언"
   ]
  },
  {
   "cell_type": "markdown",
   "id": "efa89eab-d56b-4c75-96d1-6534db2f1115",
   "metadata": {},
   "source": [
    "#### 평가 기준 설정\n",
    "- MT-bench 논문 기반 Pairwise Comparision 방식 적용\n",
    "  - LLM 기반 품질 비교평가\n",
    "  - gpt-4o를 활용하여 2개 모델(3.5-turbo, 4-turbo)의 요약 결과를 비교하여 평가를 해보자"
   ]
  },
  {
   "cell_type": "markdown",
   "id": "7388eef1-cc65-48bc-b1c7-d6420a354e63",
   "metadata": {},
   "source": [
    "#### 평가를 위한 스크립트 및 모델 실행 함수 코드 작성\n",
    "- 기존 MT-bench 논문의 프롬프트에서 우리의 task에 맞게 일부만 수정해서 활용"
   ]
  },
  {
   "cell_type": "code",
   "execution_count": 29,
   "id": "d5799e6b-d648-4753-9073-33e356ac1ba5",
   "metadata": {},
   "outputs": [],
   "source": [
    "# 2개의 모델이 요약한 내용을 비교 평가하는 함수(리뷰내용, 첫번째 모델 응답, 두번째 모델 응답)\n",
    "def pairwise_eval(reviews, answer_a, answer_b) :\n",
    "    eval_prompt = f\"\"\"[System]\n",
    "Please act as an impartial judge and evaluate the quality of the Korean summaries provided by two\n",
    "AI assistants to the set of user reviews on accommodations displayed below. You should choose the assistant that\n",
    "follows the user’s instructions and answers the user’s question better. Your evaluation\n",
    "should consider factors such as the helpfulness, relevance, accuracy, depth, creativity,\n",
    "and level of detail of their responses. Begin your evaluation by comparing the two\n",
    "responses and provide a short explanation. Avoid any position biases and ensure that the\n",
    "order in which the responses were presented does not influence your decision. Do not allow\n",
    "the length of the responses to influence your evaluation. Do not favor certain names of\n",
    "the assistants. Be as objective as possible. After providing your explanation, output your\n",
    "final verdict by strictly following this format: \"[[A]]\" if assistant A is better, \"[[B]]\"\n",
    "if assistant B is better, and \"[[C]]\" for a tie.\n",
    "[User Reviews]\n",
    "{reviews}\n",
    "[The Start of Assistant A’s Answer]\n",
    "{answer_a}\n",
    "[The End of Assistant A’s Answer]\n",
    "[The Start of Assistant B’s Answer]\n",
    "{answer_b}\n",
    "[The End of Assistant B’s Answer]\"\"\"\n",
    "\n",
    "    completion = client.chat.completions.create(model = 'gpt-4o',\n",
    "                                                messages = [{'role':'user', 'content':eval_prompt}],\n",
    "                                                temperature = 0\n",
    "                                               )\n",
    "    return completion"
   ]
  },
  {
   "cell_type": "code",
   "execution_count": null,
   "id": "6a2057d7-5cb6-403d-803a-d69b9bdb64cf",
   "metadata": {},
   "outputs": [],
   "source": []
  },
  {
   "cell_type": "markdown",
   "id": "b71ff97e-28c2-494d-aab5-71c3ff36b4fb",
   "metadata": {},
   "source": [
    "#### base모델(3.5-turbo)과 gpt-4-turbo모델 하나씩의 응답에 대해 시범 평가"
   ]
  },
  {
   "cell_type": "code",
   "execution_count": 30,
   "id": "e8d7fe4c-025a-4665-baf3-9c1cb07bccc0",
   "metadata": {},
   "outputs": [],
   "source": [
    "answer_a = summarize(reviews, PROMPT_BASELINE, model='gpt-3.5-turbo').choices[0].message.content"
   ]
  },
  {
   "cell_type": "code",
   "execution_count": 32,
   "id": "13551096-66cb-4075-a865-56a74f22f1c6",
   "metadata": {},
   "outputs": [
    {
     "name": "stdout",
     "output_type": "stream",
     "text": [
      "Both Assistant A and Assistant B provided summaries of the user reviews, but there are notable differences in their responses.\n",
      "\n",
      "Assistant A's summary is concise and highlights the positive aspects of the accommodation, such as the delicious breakfast, discount benefits, friendly staff, and overall satisfaction with the location and facilities. However, it lacks depth and does not cover the range of details mentioned in the reviews.\n",
      "\n",
      "Assistant B's summary, on the other hand, is more detailed and covers a broader range of aspects mentioned in the reviews. It includes information about the cleanliness and comfort of the environment, the variety and taste of the breakfast, the convenience of parking facilities, the cozy and luxurious atmosphere of the rooms, potential road noise, accessibility, and the presence of nearby dining options. It also mentions the value for money and the likelihood of guests returning, which provides a more comprehensive overview of the user reviews.\n",
      "\n",
      "Overall, Assistant B's response is more helpful, relevant, and detailed, providing a better summary of the user reviews.\n",
      "\n",
      "[[B]]\n"
     ]
    }
   ],
   "source": [
    "# 평가 함수 실행(pairwise 함수를 호출하여 두 모델의 응답에 대해 gpt-4o모델이 평가함)\n",
    "print(pairwise_eval(reviews, answer_a, summary_gpt4_turbo).choices[0].message.content)"
   ]
  },
  {
   "cell_type": "markdown",
   "id": "fb4bccc1-2118-43dd-ab89-a9970776f47f",
   "metadata": {},
   "source": []
  },
  {
   "cell_type": "markdown",
   "id": "4dfd83b5-68a3-43cf-8147-c20097e7b770",
   "metadata": {},
   "source": [
    "### 메인 평가 진행\n",
    "- 모델 고도화 없이 가장 기본적인 base모델과 gpt-4의 성능을 여러번 비교 평가해보자!\n",
    "- 실무에서는 다양한 데이터군으로 많은 횟수로 평가하지만 지금은 그렇게 하기 힘들기 때문에 temperature를 높여서 다양한 응답을 10개 만들어서 평가를 진행해보자.\n",
    "- 경험상 50~100번 정도의 평가를 진행해보면 좋겠지만 시간과 비용의 문제로 10번만 진행."
   ]
  },
  {
   "cell_type": "code",
   "execution_count": 33,
   "id": "565c4bb4-643f-4449-bb6a-8dc8eaece77b",
   "metadata": {
    "scrolled": true
   },
   "outputs": [
    {
     "data": {
      "text/plain": [
       "['다양하고 맛있는 조식과 할인 가능한 캠페인이 좋았고, 직원분들이 친절하게 대응해줘서 좋았다.',\n",
       " '다양하고 맛있는 조식과 친절한 직원으로 할인받아서 만족했던 숙소.신라스테이는 가족들이 좋아하는 곳이며, 깨끗하고 친절한 서비스가 인상적이었다. 위치가 편리하고 주차장이 넓어서 출장 시 자주 이용하는 곳이었고, 강남에서 쉴 곳으로 선택한 데이유즈는 룸 상태가 좋고 위치가 좋은 곳이라고 하였다. 아이와 함께 머물기 좋은 저렴한 가격의 깨끗한 숙소인 신라스테이에 다음에도 재방문 의사가 있다고 언급했다.',\n",
       " '다양하고 맛있는 조식을 제공하며 할인 혜택도 받을 수 있는 호텔, 친절한 직원분들이 대응력이 뛰어나고 깨끗한 시설과 좋은 위치로 소음도 적절한 호텔, 객실이 깨끗하고 아늑하며 조식이 맛있는 호텔, 룸 컨디션이 우수하고 주차가 편리한 호텔, 위생이 우수하고 요청사항에 빠르게 대응해주는 호텔.',\n",
       " '다양하고 맛난 조식과 할인 혜택을 즐길 수 있는 신라스테이에서 친절한 직원들이 좋은 서비스를 제공해줌. 가족이나 출장객들에게 추천되는 깨끗하고 편리한 숙소로 소음도 적고 주차도 편리함. 침구가 편안하고 조식이 맛있는 신라스테이는 다음 방문을 고려하게 하는 좋은 선택.신라스테이 강남은 5성급 호텔 수준의 룸 컨디션과 편리한 위치, 넓은 지하주차장을 제공함. 아이와 함께 이용하기 안전하고 편리한 숙소로, 직원들의 친절한 서비스와 맛있는 조식이 인상적인 신라스테이.',\n",
       " '다양하고 맛있는 조식과 할인된 가격으로 만족한 숙소, 친절한 직원과 가족들이 좋아하는 신라스테이, 깨끗하고 친절한 숙소, 편리한 위치와 교통편, 청결하고 맛있는 조식이 좋은 고객 평가를 받았습니다.',\n",
       " '다양하고 맛있는 조식과 할인 혜택을 제공하는 숙소로, 친절한 직원들이 있는 곳이다. 위치와 시설이 좋아서 가족들이나 출장객들에게 추천할 만한 곳이다.',\n",
       " '다양하고 맛있는 조식, 친절한 직원, 편안하고 깨끗한 숙소, 편리한 주차시설을 갖춘 신라스테이 역삼을 추천합니다.',\n",
       " '다양하고 맛있는 조식과 할인 혜택, 친절한 직원 서비스를 갖춘 신라스테이. 위치와 시설도 좋아서 가족이나 출장으로 이용하기 편리하며, 청결하고 쾌적한 객실 컨디션으로 고객들에게 만족을 준다.',\n",
       " '다양하고 맛있는 조식과 할인된 가격으로 만족했던 숙소. 친절한 직원과 깨끗한 객실이 좋았고, 편리한 위치와 주차 시설도 좋았다.',\n",
       " '다양하고 맛있는 조식과 할인된 가격으로 만족한 고객, 친절한 직원분들, 깨끗하고 친절한 숙소, 편리한 위치와 주차, 아이와 함께 머무르기 좋은 숙소로 추천할 만한 곳이었다.']"
      ]
     },
     "execution_count": 33,
     "metadata": {},
     "output_type": "execute_result"
    }
   ],
   "source": [
    "summaries_baseline = [summarize(reviews, PROMPT_BASELINE, temperature=0.8).choices[0].message.content for _ in range(10)]\n",
    "summaries_baseline"
   ]
  },
  {
   "cell_type": "code",
   "execution_count": 34,
   "id": "a378f495-82cf-40f7-b415-a4d6c2434c06",
   "metadata": {},
   "outputs": [
    {
     "data": {
      "text/plain": [
       "10"
      ]
     },
     "execution_count": 34,
     "metadata": {},
     "output_type": "execute_result"
    }
   ],
   "source": [
    "len(summaries_baseline)"
   ]
  },
  {
   "cell_type": "code",
   "execution_count": 35,
   "id": "fa172cb6-696c-435c-b991-daa49dd1c736",
   "metadata": {},
   "outputs": [
    {
     "data": {
      "text/plain": [
       "10"
      ]
     },
     "execution_count": 35,
     "metadata": {},
     "output_type": "execute_result"
    }
   ],
   "source": [
    "# gpt-4모델의 결과는 똑같은 텍스트로 10번 넣어기기\n",
    "summaries_gpt4 = [summary_gpt4_turbo for _ in range(10)]\n",
    "len(summaries_gpt4)"
   ]
  },
  {
   "cell_type": "code",
   "execution_count": 36,
   "id": "8751cd53-b7b1-4eaf-bfb1-052ce8a37002",
   "metadata": {},
   "outputs": [],
   "source": [
    "# pairwise_eval 함수로 평가를 10번 반복하여 base 모델이 gpt4에 비해 몇 번이나 승리했는지 확인하는 함수 선언\n",
    "def pairwise_eval_batch(reviews, answer_a, answer_b) :\n",
    "    a_cnt, b_cnt, c_cnt = 0, 0, 0   # 승리, 패배, 무승부\n",
    "\n",
    "    # tqdm : for문 작성시 반복하는 %를 출력시켜주는 함수\n",
    "    for i in tqdm(range(10)) :\n",
    "        # pairwise_eval는 평가 함수인데 각 모델별 10번의 응답을 갖고 있으므로 각각을 비교하기 위해 i로 인덱싱\n",
    "        completion = pairwise_eval(reviews, answer_a[i], answer_b[i])\n",
    "        # gpt-4o가 평가한 결과에 대한 텍스트만 수집\n",
    "        result_text = completion.choices[0].message.content\n",
    "\n",
    "        # gpt-4o가 응답한 내용중에 [[A]] 가 있다면(즉 3.5-turbo모델이 더 요약을 잘 했다면)\n",
    "        if '[[A]]' in result_text : \n",
    "            a_cnt += 1\n",
    "        # gpt-4-turbo가 더 요약을 잘 했다면\n",
    "        elif '[[B]]' in result_text : \n",
    "            b_cnt += 1\n",
    "        # 두 모델의 성능이 동일하다면\n",
    "        elif '[[C]]' in result_text : \n",
    "            c_cnt += 1\n",
    "        # A, B, C 값 중 어느것도 나오지 않았다면\n",
    "        else :\n",
    "            print(\"비상 비상 에러발생~!!\")\n",
    "\n",
    "    return a_cnt, b_cnt, c_cnt"
   ]
  },
  {
   "cell_type": "code",
   "execution_count": 37,
   "id": "9519cac9-f4bb-45ee-9813-9f98f1415815",
   "metadata": {},
   "outputs": [
    {
     "name": "stderr",
     "output_type": "stream",
     "text": [
      "100%|██████████████████████████████████████████████████████████████████████████████████| 10/10 [00:50<00:00,  5.08s/it]"
     ]
    },
    {
     "name": "stdout",
     "output_type": "stream",
     "text": [
      "Wins: 2, Losses: 8, Ties: 0\n"
     ]
    },
    {
     "name": "stderr",
     "output_type": "stream",
     "text": [
      "\n"
     ]
    }
   ],
   "source": [
    "# 10번의 요약 결과로 평가 후 gpt-3.5모델의 승리 및 패배 횟수를 판단\n",
    "wins, losses, ties = pairwise_eval_batch(reviews, summaries_baseline, summaries_gpt4)\n",
    "print(f\"Wins: {wins}, Losses: {losses}, Ties: {ties}\")"
   ]
  },
  {
   "cell_type": "markdown",
   "id": "39045722-d453-4cee-aec1-abe247bf8deb",
   "metadata": {},
   "source": [
    "- 10번의 비교 평가시 base모델의 패배가 훨씬 많은 상태!"
   ]
  },
  {
   "cell_type": "markdown",
   "id": "9ed8a900-8f94-4c88-9550-d98b5e7ebf49",
   "metadata": {},
   "source": [
    "### 모델 고도화"
   ]
  },
  {
   "cell_type": "markdown",
   "id": "56b324ca-dd11-4868-a4d2-12b8f792e825",
   "metadata": {},
   "source": [
    "#### 1. 프롬프트 엔지니어링\n",
    "- 페르소나 및 조건 명시"
   ]
  },
  {
   "cell_type": "code",
   "execution_count": 38,
   "id": "c80a5cdb-88d9-4221-afb5-680ca26274da",
   "metadata": {},
   "outputs": [],
   "source": [
    "prompt = \"\"\"당신은 문장 요약 전문가 입니다. 사용자 숙소 리뷰들이 주어졌을 때 이를 요악하는\n",
    "것이 당신의 목표 입니다.\n",
    "\n",
    "요약 결과는 다음 조건들을 충족해야 합니다.\n",
    "1. 모든 문장은 항상 존댓말로 끝나야 합니다.\n",
    "2. 숙소에 대해 소개하는 톤앤매너로 작성해주세요.\n",
    " 2-1. 좋은 리뷰 요약 예시\n",
    "   a) 전반적으로 좋은 숙소였고 방음도 괜찮았다는 평입니다.\n",
    "   b) 재방문 예정이라는 평들이 존재 합니다.\n",
    " 2-2. 나쁜 리뷰 요약 예시\n",
    "   a) 좋은 숙소. 방음도 괜찮음.\n",
    "   b) 재방문 예정.\n",
    "3. 요약 결과는 최소 4문장 이상 최대 7문장 이내로 작성해주세요.\n",
    "\n",
    "아래 숙소 리뷰들에 대해 요약해주세요:\n",
    "\n",
    "\"\"\"\n",
    "\n",
    "# 변경한 프롬프트를 넣어 gpt-3.5 모델로 10번의 요약을 실행\n",
    "summaries_opti1 = [summarize(reviews, prompt, temperature=0.8).choices[0].message.content for _ in range(10)]"
   ]
  },
  {
   "cell_type": "code",
   "execution_count": 39,
   "id": "4b9630d3-89e1-422d-a7e6-dba4ee4ad4db",
   "metadata": {},
   "outputs": [
    {
     "name": "stderr",
     "output_type": "stream",
     "text": [
      "100%|██████████████████████████████████████████████████████████████████████████████████| 10/10 [00:54<00:00,  5.49s/it]"
     ]
    },
    {
     "name": "stdout",
     "output_type": "stream",
     "text": [
      "Wins: 4, Losses: 6, Ties: 0\n"
     ]
    },
    {
     "name": "stderr",
     "output_type": "stream",
     "text": [
      "\n"
     ]
    }
   ],
   "source": [
    "# 1차 변경한 프롬프트로 다시 10번의 비교 평가 실행\n",
    "wins, losses, ties = pairwise_eval_batch(reviews, summaries_opti1, summaries_gpt4)\n",
    "print(f\"Wins: {wins}, Losses: {losses}, Ties: {ties}\")"
   ]
  },
  {
   "cell_type": "markdown",
   "id": "761f547b-f1a2-4d99-b319-12629513c4df",
   "metadata": {},
   "source": [
    "- 프롬프트를 수정하니 조금 더 wins가 올라가는 것을 확인할 수 있음"
   ]
  },
  {
   "cell_type": "markdown",
   "id": "266e1b41-0fb3-42e0-812b-5e382a3f22c4",
   "metadata": {},
   "source": [
    "#### 2. 입력 데이터 품질 향상\n",
    "- 실제 숙소에 대한 정보가 포함되어 있지 않은 단순하고 짧은 리뷰들 필터링  ex) 좋았어요, 굳굳굳 등"
   ]
  },
  {
   "cell_type": "code",
   "execution_count": 41,
   "id": "9982e174-598f-46b4-8420-bc859a002c91",
   "metadata": {},
   "outputs": [],
   "source": [
    "# 리뷰 전처리 함수에서 일부의 코드를 추가\n",
    " # 1) 일정 리뷰 길이 미만인 것들을 필터링하며 실제 리뷰와 개수까지 출력\n",
    " # 2) 남은 양질의 리뷰 개수 출력시기\n",
    "def preprocessing_reviews(path='data/ya_review_sinla.json') :\n",
    "    with open(path, 'r', encoding='utf-8') as f :\n",
    "        review_list = json.load(f)\n",
    "\n",
    "    reviews_high, reviews_low = [], []\n",
    "\n",
    "    # 현재 날짜(년월일시분초)\n",
    "    current_date = datetime.datetime.now()\n",
    "\n",
    "    # 6개월 전 날짜\n",
    "    date_boundary = current_date - datetime.timedelta(weeks=24)\n",
    "\n",
    "    # ======== 추가 ========\n",
    "    filtered_cnt = 0   # 필터링 된 리뷰 개수 변수\n",
    "    # ======================\n",
    "\n",
    "    for i in review_list : \n",
    "        # 리뷰의 날짜 문자열을 변수에 저장\n",
    "        review_date_str = i['date']\n",
    "        try :\n",
    "            # parse : 문자열이 들어오면 코드 형태(날짜타입)으로 변환시켜주는 함수\n",
    "            review_date = parser.parse(review_date_str)\n",
    "            \n",
    "        # 년월일로 표시되지 않은 값들을 처리\n",
    "        except (ValueError, TypeError) :\n",
    "            # ~일 전 같은 텍스트는 어차피 7일을 넘어가지 않으므로 6개월 내에 포함되는 리뷰가 됨(오늘날짜로 지정)\n",
    "            review_date = current_date\n",
    "\n",
    "        # 해당 리뷰의 날짜가 6개월전 날짜보다 작다면(이전이라면!) 그냥 넘어감\n",
    "        if review_date < date_boundary :\n",
    "            continue\n",
    "\n",
    "        # ======== 추가 ========\n",
    "        if len(i['review']) < 15 :\n",
    "            filtered_cnt += 1\n",
    "            print(i['review'])   # 필터링 된 리뷰 내용 확인\n",
    "            continue\n",
    "        # ======================\n",
    "\n",
    "        # 별점이 5점인 경우와 아닌 경우 판단(우리는 5점인 경우만 사용할 예정!)\n",
    "        if i['stars'] == 5 :\n",
    "            reviews_high.append('[REVIEW_START]' + i['review'] + '[REVIEW_END]')\n",
    "        else : \n",
    "            reviews_low.append('[REVIEW_START]' + i['review'] + '[REVIEW_END]')\n",
    "\n",
    "    # =========================== 추가 ===========================\n",
    "    # min함수를 활용하여 15자 이상인 리뷰들의 개수가 50개 보다 적다면 리뷰 개수만큼 사용하고\n",
    "    # 50개보다 많더라도 50개까지만 사용하게끔 제한(gpt3.5의 경우 토큰수 제한으로 입력이 너무 길면 잘릴 수 있음)\n",
    "    reviews_high = reviews_high[ : min(len(reviews_high), 50)]\n",
    "    reviews_low = reviews_low[ : min(len(reviews_low), 50)]\n",
    "\n",
    "    print(\"15자 미만 리뷰 개수 :\", filtered_cnt)\n",
    "    print(\"필터링 되고 남은 높은 평점 리뷰 개수 :\", len(reviews_high))\n",
    "    # ===========================================================\n",
    "\n",
    "    # 리스트에 있는 리뷰들을 하나의 문자열로 합쳐주기\n",
    "    review_high_text = '\\n'.join(reviews_high)\n",
    "    review_low_text = '\\n'.join(reviews_low)\n",
    "\n",
    "    # return은 두 가지로 반환하지만 우리는 review_high_text만 사용 예정!\n",
    "    return review_high_text, review_low_text"
   ]
  },
  {
   "cell_type": "code",
   "execution_count": 43,
   "id": "dfe8c0ad-0751-46d6-8507-65d4c5cc0959",
   "metadata": {},
   "outputs": [
    {
     "name": "stdout",
     "output_type": "stream",
     "text": [
      "아주좋아요오오옹오ㅗ옹\n",
      "잘자고 가요오오 ~~\n",
      "서울오면 항상들려요~\n",
      "잘 아용하였습니다!\n",
      "편하게 놀고 쉬고 왔어요\n",
      "편안하게 잘 쉬다 갑니다.\n",
      "친절 하고 깨끗해요\n",
      "잘 쉬다갑니다\n",
      "대체로 괜춘\n",
      "편하게 쉬고 왔습니다!\n",
      "너무 깨끗하고 좋아요\n",
      "너무 깨끗하고 좋아요\n",
      "잘쉬다가가갑니다아ㅡ\n",
      "편히 잘 쉬고 갑니다\n",
      "편안하게 잘쉬다가 갑니다\n",
      "깨끗하고 편안했어요 좋아요\n",
      "잘쉬다가갑니다 규ㅛ굿\n",
      "15자 미만 리뷰 개수 : 16\n",
      "필터링 되고 남은 높은 평점 리뷰 개수 : 33\n"
     ]
    }
   ],
   "source": [
    "# 변경된 전처리 함수를 리뷰 데이터에 다시 적용시킨 후 활용\n",
    "reviews, _ = preprocessing_reviews('data/ya_review_sinla.json')\n",
    "\n",
    "# 두번째 고도화\n",
    "summaries_opti2 = [summarize(reviews, prompt, temperature=0.8).choices[0].message.content for _ in range(10)]"
   ]
  },
  {
   "cell_type": "code",
   "execution_count": 44,
   "id": "47879400-5963-4073-8614-d67cc0588e53",
   "metadata": {},
   "outputs": [
    {
     "name": "stderr",
     "output_type": "stream",
     "text": [
      "100%|██████████████████████████████████████████████████████████████████████████████████| 10/10 [01:05<00:00,  6.54s/it]"
     ]
    },
    {
     "name": "stdout",
     "output_type": "stream",
     "text": [
      "Wins: 6, Losses: 4, Ties: 0\n"
     ]
    },
    {
     "name": "stderr",
     "output_type": "stream",
     "text": [
      "\n"
     ]
    }
   ],
   "source": [
    "wins, losses, ties = pairwise_eval_batch(reviews, summaries_opti2, summaries_gpt4)\n",
    "print(f\"Wins: {wins}, Losses: {losses}, Ties: {ties}\")"
   ]
  },
  {
   "cell_type": "markdown",
   "id": "2aad126c-1d28-40a9-8fd7-0cea09dd6dc5",
   "metadata": {},
   "source": [
    "- 입력 데이터 중에서 요약에 크게 도움이 되지 않는 데이터들을 줄여주는 것만으로도 큰 성능 향상을 볼 수 있음\n",
    "- 그러나 입력된 데이터의 절대적인 개수가 적기 때문에 현재로서는 좋은 모델이라고 섣부르게 판단할 수 없음(실무에서는더 많은 케이스와 다양한 데이터로 테스트를 해야 함)"
   ]
  },
  {
   "cell_type": "markdown",
   "id": "e8c53a6d-8ff3-4215-a634-823f5ba46608",
   "metadata": {},
   "source": [
    "### 3. Few-Shot learning\n",
    "- few-shot은 질의-응답 쌍의 예시를 들어줘야 하는데 새로운 숙소의 리뷰와 그 요약을 예시로 넣어주자"
   ]
  },
  {
   "cell_type": "code",
   "execution_count": 46,
   "id": "58424750-8914-4b90-9286-61fc00f8c53e",
   "metadata": {},
   "outputs": [
    {
     "name": "stdout",
     "output_type": "stream",
     "text": [
      "침구류가 아주 좋네요\n",
      "주변 활용도가 높습니다\n",
      "가갹대비 편리하고 좋아요\n",
      "편안하게 잘 사용했습니다.\n",
      "깔끔하고 뷰가 좋아요~\n",
      "깨끗해서 기분좋게이용했어요\n",
      "위치좋고 편안합니다!\n",
      "괜찮았습니다 감사합니다\n",
      "너무 깨끗하고 좋습니다~\n",
      "접근성이 좋았습니다\n",
      "만족하고 푹 쉬다 갑니다\n",
      "올때마다 또 오고싶어요\n",
      "시간대 선택이 좋으네요\n",
      "시간과 예약이 편리해요\n",
      "15자 미만 리뷰 개수 : 14\n",
      "필터링 되고 남은 높은 평점 리뷰 개수 : 31\n"
     ]
    },
    {
     "data": {
      "text/plain": [
       "'글래드 삼성 호텔은 편리한 위치와 청결한 시설로 많은 고객들에게 좋은 평가를 받고 있습니다. 삼성역과 가까워 교통이 편리하며, 코엑스와 현대백화점 등 주요 시설과의 접근성도 뛰어납니다. 침구의 푹신함과 청결함이 특히 인상적이라는 평이 많으며, 고객 서비스도 친절하다는 의견이 많습니다. 다만, 일부 고객들은 소음 문제를 지적하기도 했습니다. 전반적으로, 편안한 숙박을 원하는 분들에게 추천할 만한 숙소입니다.'"
      ]
     },
     "execution_count": 46,
     "metadata": {},
     "output_type": "execute_result"
    }
   ],
   "source": [
    "# 요약 예시를 위해 글래드 강남 호텔의 리뷰를 불러와서 전처리 진행\n",
    "reviews_1shot, _ = preprocessing_reviews('data/ya_review_glad.json')\n",
    "\n",
    "# 요약 예시문 생성(좀 더 좋은 예시를 위해 상급 모델을 1번 사용하고 출력 문장의 일관성을 위해 temp를 0으로 설정)\n",
    "summary_1shot = summarize(reviews_1shot, prompt, temperature=0, model='gpt-4o').choices[0].message.content\n",
    "summary_1shot"
   ]
  },
  {
   "cell_type": "code",
   "execution_count": 47,
   "id": "7d898858-4c32-44c4-bb03-77602966b73b",
   "metadata": {},
   "outputs": [],
   "source": [
    "prompt_1shot = f\"\"\"당신은 문장 요약 전문가 입니다. 사용자 숙소 리뷰들이 주어졌을 때 이를 요악하는\n",
    "것이 당신의 목표 입니다.\n",
    "\n",
    "요약 결과는 다음 조건들을 충족해야 합니다.\n",
    "1. 모든 문장은 항상 존댓말로 끝나야 합니다.\n",
    "2. 숙소에 대해 소개하는 톤앤매너로 작성해주세요.\n",
    " 2-1. 좋은 리뷰 요약 예시\n",
    "   a) 전반적으로 좋은 숙소였고 방음도 괜찮았다는 평입니다.\n",
    "   b) 재방문 예정이라는 평들이 존재 합니다.\n",
    " 2-2. 나쁜 리뷰 요약 예시\n",
    "   a) 좋은 숙소. 방음도 괜찮음.\n",
    "   b) 재방문 예정.\n",
    "3. 요약 결과는 최소 4문장 이상 최대 7문장 이내로 작성해주세요.\n",
    "\n",
    "다음은 참고할 리뷰들과 그에 대한 요약 예시 입니다.\n",
    "\n",
    "[예시 리뷰들] :\n",
    "{reviews_1shot}\n",
    "[예시 요약 결과] :\n",
    "{summary_1shot}\n",
    "\n",
    "아래 숙소 리뷰들에 대해 요약해주세요:\n",
    "\"\"\"\n",
    "\n",
    "summaries_opti3 = [summarize(reviews, prompt_1shot, temperature=0.8).choices[0].message.content for _ in range(10)]"
   ]
  },
  {
   "cell_type": "code",
   "execution_count": 48,
   "id": "c62b7ff6-797b-4e77-89e8-d01eeae6dcec",
   "metadata": {},
   "outputs": [
    {
     "name": "stderr",
     "output_type": "stream",
     "text": [
      "100%|██████████████████████████████████████████████████████████████████████████████████| 10/10 [01:12<00:00,  7.21s/it]"
     ]
    },
    {
     "name": "stdout",
     "output_type": "stream",
     "text": [
      "Wins: 2, Losses: 8, Ties: 0\n"
     ]
    },
    {
     "name": "stderr",
     "output_type": "stream",
     "text": [
      "\n"
     ]
    }
   ],
   "source": [
    "wins, losses, ties = pairwise_eval_batch(reviews, summaries_opti3, summaries_gpt4)\n",
    "print(f\"Wins: {wins}, Losses: {losses}, Ties: {ties}\")"
   ]
  },
  {
   "cell_type": "markdown",
   "id": "d04aa2e8-0086-4e7d-900d-53fd611803b0",
   "metadata": {},
   "source": [
    "- one-shot 후에 결과가 더 안좋아지는 경향이 발생함\n",
    "- 고도화 작업을 진행했다고 해서 무조건 결과가 더 좋아지지는 않을 수 있음(프롬프트의 조건과 few-shot의 예시가 잘 안맞거나 너무 양이 많고 복잡해서 이해하기 난해한 경우)\n",
    "- 즉 테스트의 횟수를 늘려서 많은 사람들이 신뢰할 수 있는 결과로 수렴시키는 것이 중요함 "
   ]
  },
  {
   "cell_type": "code",
   "execution_count": 49,
   "id": "6e43d175-f46d-4037-80e5-59a2261eff2c",
   "metadata": {},
   "outputs": [],
   "source": [
    "prompt_1shot_ver2 = f\"\"\"당신은 문장 요약 전문가 입니다. 사용자 숙소 리뷰들이 주어졌을 때 이를 요악하는\n",
    "것이 당신의 목표 입니다.\n",
    "요약 결과는 최소 4문장 이상 최대 7문장 이내로 작성해주세요.\n",
    "\n",
    "다음은 참고할 리뷰들과 그에 대한 요약 예시 입니다.\n",
    "\n",
    "[예시 리뷰들] :\n",
    "{reviews_1shot}\n",
    "[예시 요약 결과] :\n",
    "{summary_1shot}\n",
    "\n",
    "아래 숙소 리뷰들에 대해 요약해주세요:\n",
    "\"\"\"\n",
    "\n",
    "summaries_opti4 = [summarize(reviews, prompt_1shot_ver2, temperature=0.8).choices[0].message.content for _ in range(10)]"
   ]
  },
  {
   "cell_type": "code",
   "execution_count": 50,
   "id": "c8247a33-ce21-40fa-8e4b-09df4b6bac5c",
   "metadata": {},
   "outputs": [
    {
     "name": "stderr",
     "output_type": "stream",
     "text": [
      "100%|██████████████████████████████████████████████████████████████████████████████████| 10/10 [01:07<00:00,  6.70s/it]"
     ]
    },
    {
     "name": "stdout",
     "output_type": "stream",
     "text": [
      "Wins: 6, Losses: 4, Ties: 0\n"
     ]
    },
    {
     "name": "stderr",
     "output_type": "stream",
     "text": [
      "\n"
     ]
    }
   ],
   "source": [
    "wins, losses, ties = pairwise_eval_batch(reviews, summaries_opti4, summaries_gpt4)\n",
    "print(f\"Wins: {wins}, Losses: {losses}, Ties: {ties}\")"
   ]
  },
  {
   "cell_type": "code",
   "execution_count": 51,
   "id": "5adb04d6-c653-40a6-a8fd-2fbe0b80125b",
   "metadata": {},
   "outputs": [
    {
     "name": "stdout",
     "output_type": "stream",
     "text": [
      "깨끗하고 청결해서 좋았어요\n",
      "주차편하고좋아요~~~\n",
      "깨끗하고 조용해요.\n",
      "생각보다 방이 좁았어요\n",
      "깔끔하고 가성비 좋아요\n",
      "침구류가 좋고 깨끗해요\n",
      "15자 미만 리뷰 개수 : 6\n",
      "필터링 되고 남은 높은 평점 리뷰 개수 : 20\n"
     ]
    },
    {
     "data": {
      "text/plain": [
       "'이 숙소는 코엑스와의 접근성이 뛰어나고, 봉은사역에서 1분 거리에 위치해 있어 편리한 위치를 자랑합니다. 고객들은 특히 침구의 편안함과 청결함을 높이 평가하며, 주차 서비스도 편리하다는 의견이 많습니다. 21층에서의 식사가 맛있다는 리뷰가 있으며, 야경도 멋지다는 평이 있습니다. 다만, 일부 고객들은 라운지바의 부족한 서비스와 대로변 소음 문제를 지적하기도 했습니다. 전반적으로, 편안한 휴식을 원하는 고객들에게 추천할 만한 숙소로 보입니다.'"
      ]
     },
     "execution_count": 51,
     "metadata": {},
     "output_type": "execute_result"
    }
   ],
   "source": [
    "reviews_2shot, _ = preprocessing_reviews('data/ya_review_in9.json')\n",
    "summary_2shot = summarize(reviews_2shot, prompt_1shot_ver2, temperature=0, model='gpt-4o').choices[0].message.content\n",
    "summary_2shot"
   ]
  },
  {
   "cell_type": "code",
   "execution_count": 52,
   "id": "e2d4bea7-9ecb-475c-9c12-8ab44fa35377",
   "metadata": {},
   "outputs": [],
   "source": [
    "prompt_2shot = f\"\"\"당신은 문장 요약 전문가 입니다. 사용자 숙소 리뷰들이 주어졌을 때 이를 요악하는\n",
    "것이 당신의 목표 입니다.\n",
    "요약 결과는 최소 4문장 이상 최대 7문장 이내로 작성해주세요.\n",
    "\n",
    "다음은 참고할 리뷰들과 그에 대한 요약 예시 입니다.\n",
    "\n",
    "[예시 리뷰들 1] :\n",
    "{reviews_1shot}\n",
    "[예시 요약 결과 1] :\n",
    "{summary_1shot}\n",
    "\n",
    "[예시 리뷰들 2] :\n",
    "{reviews_2shot}\n",
    "[예시 요약 결과 2] :\n",
    "{summary_2shot}\n",
    "\n",
    "아래 숙소 리뷰들에 대해 요약해주세요:\n",
    "\"\"\"\n",
    "\n",
    "summaries_opti5 = [summarize(reviews, prompt_2shot, temperature=0.8).choices[0].message.content for _ in range(10)]"
   ]
  },
  {
   "cell_type": "code",
   "execution_count": 53,
   "id": "4c0b2eb8-7a70-4fc6-a791-92d497ee6578",
   "metadata": {},
   "outputs": [
    {
     "name": "stderr",
     "output_type": "stream",
     "text": [
      "100%|██████████████████████████████████████████████████████████████████████████████████| 10/10 [01:11<00:00,  7.13s/it]"
     ]
    },
    {
     "name": "stdout",
     "output_type": "stream",
     "text": [
      "Wins: 9, Losses: 1, Ties: 0\n"
     ]
    },
    {
     "name": "stderr",
     "output_type": "stream",
     "text": [
      "\n"
     ]
    }
   ],
   "source": [
    "wins, losses, ties = pairwise_eval_batch(reviews, summaries_opti5, summaries_gpt4)\n",
    "print(f\"Wins: {wins}, Losses: {losses}, Ties: {ties}\")"
   ]
  },
  {
   "cell_type": "markdown",
   "id": "0c40bf60-6294-4ec8-b775-23c37f924dcc",
   "metadata": {},
   "source": [
    "## [실습] 자유롭게 프롬프트 및 데이터를 변경하여 성능을 높여보세요\n",
    "- two-shot은 그대로 사용\n",
    "- 평가 횟수는 20 번으로 상향(3.5-turbo 및 4-turbo 모두 20개씩 요약 추출하고 평가 횟수도 20번으로 진행)\n",
    "- 가장 Wins가 높았을 때의 결과 및 코드 캡쳐"
   ]
  },
  {
   "cell_type": "code",
   "execution_count": null,
   "id": "dfc2de36-cd57-45c1-bad3-1b3e46c16913",
   "metadata": {},
   "outputs": [],
   "source": [
    "summaries_gpt4_20 = [summary_gpt4_turbo for _ in range(20)]"
   ]
  },
  {
   "cell_type": "code",
   "execution_count": null,
   "id": "cc756583-84d7-4564-90b2-90e03a4795c6",
   "metadata": {},
   "outputs": [],
   "source": []
  },
  {
   "cell_type": "code",
   "execution_count": null,
   "id": "8ba5b585-b94d-44e7-b385-7dbe22decfea",
   "metadata": {},
   "outputs": [],
   "source": []
  },
  {
   "cell_type": "code",
   "execution_count": null,
   "id": "cef20584-1506-4893-bc3e-3b2c43a58cd0",
   "metadata": {},
   "outputs": [],
   "source": []
  },
  {
   "cell_type": "code",
   "execution_count": null,
   "id": "5bc7e023-a173-40a1-8672-cd3f9daaf1b9",
   "metadata": {},
   "outputs": [],
   "source": []
  },
  {
   "cell_type": "code",
   "execution_count": null,
   "id": "cb3a7e2d-5118-403a-b1e5-a2b506904f9b",
   "metadata": {},
   "outputs": [],
   "source": []
  }
 ],
 "metadata": {
  "kernelspec": {
   "display_name": "Python 3 (ipykernel)",
   "language": "python",
   "name": "python3"
  },
  "language_info": {
   "codemirror_mode": {
    "name": "ipython",
    "version": 3
   },
   "file_extension": ".py",
   "mimetype": "text/x-python",
   "name": "python",
   "nbconvert_exporter": "python",
   "pygments_lexer": "ipython3",
   "version": "3.12.7"
  }
 },
 "nbformat": 4,
 "nbformat_minor": 5
}
